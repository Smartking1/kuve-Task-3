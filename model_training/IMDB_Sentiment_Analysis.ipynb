{
  "cells": [
    {
      "cell_type": "markdown",
      "metadata": {
        "id": "OY51dQ4VyTMC"
      },
      "source": [
        "#  IMDB Sentiment Analysis\n"
      ]
    },
    {
      "cell_type": "markdown",
      "metadata": {
        "id": "uhpTXmq8yTMI"
      },
      "source": [
        "## 1. Import Libraries"
      ]
    },
    {
      "cell_type": "code",
      "source": [],
      "metadata": {
        "id": "hRSe_bgJykBn"
      },
      "execution_count": null,
      "outputs": []
    },
    {
      "cell_type": "code",
      "source": [
        "from google.colab import drive\n",
        "drive.mount('/content/drive')"
      ],
      "metadata": {
        "colab": {
          "base_uri": "https://localhost:8080/"
        },
        "id": "3WiH-jxyylB_",
        "outputId": "6fa3054d-914a-4692-a535-262c0dfadf70"
      },
      "execution_count": 1,
      "outputs": [
        {
          "output_type": "stream",
          "name": "stdout",
          "text": [
            "Mounted at /content/drive\n"
          ]
        }
      ]
    },
    {
      "cell_type": "code",
      "source": [
        "!pip install tensorflow"
      ],
      "metadata": {
        "colab": {
          "base_uri": "https://localhost:8080/"
        },
        "id": "PGLh_asRyrBd",
        "outputId": "7128b6b1-2aaf-4f00-8f1c-088dfbbe5025"
      },
      "execution_count": 2,
      "outputs": [
        {
          "output_type": "stream",
          "name": "stdout",
          "text": [
            "Requirement already satisfied: tensorflow in /usr/local/lib/python3.12/dist-packages (2.19.0)\n",
            "Requirement already satisfied: absl-py>=1.0.0 in /usr/local/lib/python3.12/dist-packages (from tensorflow) (1.4.0)\n",
            "Requirement already satisfied: astunparse>=1.6.0 in /usr/local/lib/python3.12/dist-packages (from tensorflow) (1.6.3)\n",
            "Requirement already satisfied: flatbuffers>=24.3.25 in /usr/local/lib/python3.12/dist-packages (from tensorflow) (25.9.23)\n",
            "Requirement already satisfied: gast!=0.5.0,!=0.5.1,!=0.5.2,>=0.2.1 in /usr/local/lib/python3.12/dist-packages (from tensorflow) (0.6.0)\n",
            "Requirement already satisfied: google-pasta>=0.1.1 in /usr/local/lib/python3.12/dist-packages (from tensorflow) (0.2.0)\n",
            "Requirement already satisfied: libclang>=13.0.0 in /usr/local/lib/python3.12/dist-packages (from tensorflow) (18.1.1)\n",
            "Requirement already satisfied: opt-einsum>=2.3.2 in /usr/local/lib/python3.12/dist-packages (from tensorflow) (3.4.0)\n",
            "Requirement already satisfied: packaging in /usr/local/lib/python3.12/dist-packages (from tensorflow) (25.0)\n",
            "Requirement already satisfied: protobuf!=4.21.0,!=4.21.1,!=4.21.2,!=4.21.3,!=4.21.4,!=4.21.5,<6.0.0dev,>=3.20.3 in /usr/local/lib/python3.12/dist-packages (from tensorflow) (5.29.5)\n",
            "Requirement already satisfied: requests<3,>=2.21.0 in /usr/local/lib/python3.12/dist-packages (from tensorflow) (2.32.4)\n",
            "Requirement already satisfied: setuptools in /usr/local/lib/python3.12/dist-packages (from tensorflow) (75.2.0)\n",
            "Requirement already satisfied: six>=1.12.0 in /usr/local/lib/python3.12/dist-packages (from tensorflow) (1.17.0)\n",
            "Requirement already satisfied: termcolor>=1.1.0 in /usr/local/lib/python3.12/dist-packages (from tensorflow) (3.1.0)\n",
            "Requirement already satisfied: typing-extensions>=3.6.6 in /usr/local/lib/python3.12/dist-packages (from tensorflow) (4.15.0)\n",
            "Requirement already satisfied: wrapt>=1.11.0 in /usr/local/lib/python3.12/dist-packages (from tensorflow) (2.0.0)\n",
            "Requirement already satisfied: grpcio<2.0,>=1.24.3 in /usr/local/lib/python3.12/dist-packages (from tensorflow) (1.76.0)\n",
            "Requirement already satisfied: tensorboard~=2.19.0 in /usr/local/lib/python3.12/dist-packages (from tensorflow) (2.19.0)\n",
            "Requirement already satisfied: keras>=3.5.0 in /usr/local/lib/python3.12/dist-packages (from tensorflow) (3.10.0)\n",
            "Requirement already satisfied: numpy<2.2.0,>=1.26.0 in /usr/local/lib/python3.12/dist-packages (from tensorflow) (2.0.2)\n",
            "Requirement already satisfied: h5py>=3.11.0 in /usr/local/lib/python3.12/dist-packages (from tensorflow) (3.15.1)\n",
            "Requirement already satisfied: ml-dtypes<1.0.0,>=0.5.1 in /usr/local/lib/python3.12/dist-packages (from tensorflow) (0.5.3)\n",
            "Requirement already satisfied: wheel<1.0,>=0.23.0 in /usr/local/lib/python3.12/dist-packages (from astunparse>=1.6.0->tensorflow) (0.45.1)\n",
            "Requirement already satisfied: rich in /usr/local/lib/python3.12/dist-packages (from keras>=3.5.0->tensorflow) (13.9.4)\n",
            "Requirement already satisfied: namex in /usr/local/lib/python3.12/dist-packages (from keras>=3.5.0->tensorflow) (0.1.0)\n",
            "Requirement already satisfied: optree in /usr/local/lib/python3.12/dist-packages (from keras>=3.5.0->tensorflow) (0.17.0)\n",
            "Requirement already satisfied: charset_normalizer<4,>=2 in /usr/local/lib/python3.12/dist-packages (from requests<3,>=2.21.0->tensorflow) (3.4.4)\n",
            "Requirement already satisfied: idna<4,>=2.5 in /usr/local/lib/python3.12/dist-packages (from requests<3,>=2.21.0->tensorflow) (3.11)\n",
            "Requirement already satisfied: urllib3<3,>=1.21.1 in /usr/local/lib/python3.12/dist-packages (from requests<3,>=2.21.0->tensorflow) (2.5.0)\n",
            "Requirement already satisfied: certifi>=2017.4.17 in /usr/local/lib/python3.12/dist-packages (from requests<3,>=2.21.0->tensorflow) (2025.10.5)\n",
            "Requirement already satisfied: markdown>=2.6.8 in /usr/local/lib/python3.12/dist-packages (from tensorboard~=2.19.0->tensorflow) (3.9)\n",
            "Requirement already satisfied: tensorboard-data-server<0.8.0,>=0.7.0 in /usr/local/lib/python3.12/dist-packages (from tensorboard~=2.19.0->tensorflow) (0.7.2)\n",
            "Requirement already satisfied: werkzeug>=1.0.1 in /usr/local/lib/python3.12/dist-packages (from tensorboard~=2.19.0->tensorflow) (3.1.3)\n",
            "Requirement already satisfied: MarkupSafe>=2.1.1 in /usr/local/lib/python3.12/dist-packages (from werkzeug>=1.0.1->tensorboard~=2.19.0->tensorflow) (3.0.3)\n",
            "Requirement already satisfied: markdown-it-py>=2.2.0 in /usr/local/lib/python3.12/dist-packages (from rich->keras>=3.5.0->tensorflow) (4.0.0)\n",
            "Requirement already satisfied: pygments<3.0.0,>=2.13.0 in /usr/local/lib/python3.12/dist-packages (from rich->keras>=3.5.0->tensorflow) (2.19.2)\n",
            "Requirement already satisfied: mdurl~=0.1 in /usr/local/lib/python3.12/dist-packages (from markdown-it-py>=2.2.0->rich->keras>=3.5.0->tensorflow) (0.1.2)\n"
          ]
        }
      ]
    },
    {
      "cell_type": "code",
      "execution_count": 3,
      "metadata": {
        "colab": {
          "base_uri": "https://localhost:8080/"
        },
        "id": "0lkw5ctLyTMJ",
        "outputId": "77548ce4-422e-4c4f-dbc2-2f435da92721"
      },
      "outputs": [
        {
          "output_type": "stream",
          "name": "stdout",
          "text": [
            "TensorFlow version: 2.19.0\n"
          ]
        }
      ],
      "source": [
        "import numpy as np\n",
        "import pandas as pd\n",
        "import matplotlib.pyplot as plt\n",
        "import seaborn as sns\n",
        "import tensorflow as tf\n",
        "from tensorflow.keras.models import Sequential\n",
        "from tensorflow.keras.layers import Dense, Embedding, LSTM, Dropout, Bidirectional, Conv1D, GlobalMaxPooling1D # Added Conv1D, GlobalMaxPooling1D\n",
        "from tensorflow.keras.preprocessing.text import Tokenizer\n",
        "from tensorflow.keras.optimizers import Adam\n",
        "from tensorflow.keras.preprocessing.sequence import pad_sequences\n",
        "from sklearn.model_selection import train_test_split\n",
        "from sklearn.metrics import confusion_matrix, classification_report, ConfusionMatrixDisplay\n",
        "import re\n",
        "import nltk\n",
        "import pickle\n",
        "import os\n",
        "from pathlib import Path\n",
        "\n",
        "import warnings\n",
        "warnings.filterwarnings(\"ignore\")\n",
        "\n",
        "print(f\"TensorFlow version: {tf.__version__}\")"
      ]
    },
    {
      "cell_type": "code",
      "execution_count": 3,
      "metadata": {
        "id": "LXXaBVLiyTMK"
      },
      "outputs": [],
      "source": []
    },
    {
      "cell_type": "code",
      "execution_count": 4,
      "metadata": {
        "colab": {
          "base_uri": "https://localhost:8080/"
        },
        "id": "Wi34CpddyTML",
        "outputId": "34d897c3-d38c-4def-8641-65195b02730d"
      },
      "outputs": [
        {
          "output_type": "stream",
          "name": "stderr",
          "text": [
            "[nltk_data] Downloading package stopwords to /root/nltk_data...\n",
            "[nltk_data]   Unzipping corpora/stopwords.zip.\n",
            "[nltk_data] Downloading package punkt to /root/nltk_data...\n",
            "[nltk_data]   Unzipping tokenizers/punkt.zip.\n"
          ]
        }
      ],
      "source": [
        "# Download required NLTK data\n",
        "nltk.download(\"stopwords\")\n",
        "nltk.download('punkt')\n",
        "\n",
        "from nltk.corpus import stopwords\n",
        "from nltk.tokenize.toktok import ToktokTokenizer\n",
        "from bs4 import BeautifulSoup"
      ]
    },
    {
      "cell_type": "code",
      "execution_count": 5,
      "metadata": {
        "colab": {
          "base_uri": "https://localhost:8080/"
        },
        "id": "E11RB4ZlyTMM",
        "outputId": "deefbc7f-6586-4848-c4b5-15020168b743"
      },
      "outputs": [
        {
          "output_type": "stream",
          "name": "stdout",
          "text": [
            "✓ Directories created\n"
          ]
        }
      ],
      "source": [
        "# Create directories\n",
        "Path('models').mkdir(exist_ok=True)\n",
        "Path('results').mkdir(exist_ok=True)\n",
        "\n",
        "print(\"✓ Directories created\")"
      ]
    },
    {
      "cell_type": "markdown",
      "metadata": {
        "id": "Id5yTpClyTMM"
      },
      "source": [
        "## 2. Load Data"
      ]
    },
    {
      "cell_type": "code",
      "execution_count": 6,
      "metadata": {
        "colab": {
          "base_uri": "https://localhost:8080/",
          "height": 276
        },
        "id": "96AMQ2QtyTMN",
        "outputId": "354f7a45-ae8b-41ad-b3e7-6fc7ef3c3682"
      },
      "outputs": [
        {
          "output_type": "stream",
          "name": "stdout",
          "text": [
            "Loading data...\n",
            "Dataset shape: (50000, 2)\n",
            "\n",
            "First few rows:\n"
          ]
        },
        {
          "output_type": "execute_result",
          "data": {
            "text/plain": [
              "                                              review sentiment\n",
              "0  One of the other reviewers has mentioned that ...  positive\n",
              "1  A wonderful little production. <br /><br />The...  positive\n",
              "2  I thought this was a wonderful way to spend ti...  positive\n",
              "3  Basically there's a family where a little boy ...  negative\n",
              "4  Petter Mattei's \"Love in the Time of Money\" is...  positive"
            ],
            "text/html": [
              "\n",
              "  <div id=\"df-996a4ff2-2348-4949-9d70-1495420cf2b1\" class=\"colab-df-container\">\n",
              "    <div>\n",
              "<style scoped>\n",
              "    .dataframe tbody tr th:only-of-type {\n",
              "        vertical-align: middle;\n",
              "    }\n",
              "\n",
              "    .dataframe tbody tr th {\n",
              "        vertical-align: top;\n",
              "    }\n",
              "\n",
              "    .dataframe thead th {\n",
              "        text-align: right;\n",
              "    }\n",
              "</style>\n",
              "<table border=\"1\" class=\"dataframe\">\n",
              "  <thead>\n",
              "    <tr style=\"text-align: right;\">\n",
              "      <th></th>\n",
              "      <th>review</th>\n",
              "      <th>sentiment</th>\n",
              "    </tr>\n",
              "  </thead>\n",
              "  <tbody>\n",
              "    <tr>\n",
              "      <th>0</th>\n",
              "      <td>One of the other reviewers has mentioned that ...</td>\n",
              "      <td>positive</td>\n",
              "    </tr>\n",
              "    <tr>\n",
              "      <th>1</th>\n",
              "      <td>A wonderful little production. &lt;br /&gt;&lt;br /&gt;The...</td>\n",
              "      <td>positive</td>\n",
              "    </tr>\n",
              "    <tr>\n",
              "      <th>2</th>\n",
              "      <td>I thought this was a wonderful way to spend ti...</td>\n",
              "      <td>positive</td>\n",
              "    </tr>\n",
              "    <tr>\n",
              "      <th>3</th>\n",
              "      <td>Basically there's a family where a little boy ...</td>\n",
              "      <td>negative</td>\n",
              "    </tr>\n",
              "    <tr>\n",
              "      <th>4</th>\n",
              "      <td>Petter Mattei's \"Love in the Time of Money\" is...</td>\n",
              "      <td>positive</td>\n",
              "    </tr>\n",
              "  </tbody>\n",
              "</table>\n",
              "</div>\n",
              "    <div class=\"colab-df-buttons\">\n",
              "\n",
              "  <div class=\"colab-df-container\">\n",
              "    <button class=\"colab-df-convert\" onclick=\"convertToInteractive('df-996a4ff2-2348-4949-9d70-1495420cf2b1')\"\n",
              "            title=\"Convert this dataframe to an interactive table.\"\n",
              "            style=\"display:none;\">\n",
              "\n",
              "  <svg xmlns=\"http://www.w3.org/2000/svg\" height=\"24px\" viewBox=\"0 -960 960 960\">\n",
              "    <path d=\"M120-120v-720h720v720H120Zm60-500h600v-160H180v160Zm220 220h160v-160H400v160Zm0 220h160v-160H400v160ZM180-400h160v-160H180v160Zm440 0h160v-160H620v160ZM180-180h160v-160H180v160Zm440 0h160v-160H620v160Z\"/>\n",
              "  </svg>\n",
              "    </button>\n",
              "\n",
              "  <style>\n",
              "    .colab-df-container {\n",
              "      display:flex;\n",
              "      gap: 12px;\n",
              "    }\n",
              "\n",
              "    .colab-df-convert {\n",
              "      background-color: #E8F0FE;\n",
              "      border: none;\n",
              "      border-radius: 50%;\n",
              "      cursor: pointer;\n",
              "      display: none;\n",
              "      fill: #1967D2;\n",
              "      height: 32px;\n",
              "      padding: 0 0 0 0;\n",
              "      width: 32px;\n",
              "    }\n",
              "\n",
              "    .colab-df-convert:hover {\n",
              "      background-color: #E2EBFA;\n",
              "      box-shadow: 0px 1px 2px rgba(60, 64, 67, 0.3), 0px 1px 3px 1px rgba(60, 64, 67, 0.15);\n",
              "      fill: #174EA6;\n",
              "    }\n",
              "\n",
              "    .colab-df-buttons div {\n",
              "      margin-bottom: 4px;\n",
              "    }\n",
              "\n",
              "    [theme=dark] .colab-df-convert {\n",
              "      background-color: #3B4455;\n",
              "      fill: #D2E3FC;\n",
              "    }\n",
              "\n",
              "    [theme=dark] .colab-df-convert:hover {\n",
              "      background-color: #434B5C;\n",
              "      box-shadow: 0px 1px 3px 1px rgba(0, 0, 0, 0.15);\n",
              "      filter: drop-shadow(0px 1px 2px rgba(0, 0, 0, 0.3));\n",
              "      fill: #FFFFFF;\n",
              "    }\n",
              "  </style>\n",
              "\n",
              "    <script>\n",
              "      const buttonEl =\n",
              "        document.querySelector('#df-996a4ff2-2348-4949-9d70-1495420cf2b1 button.colab-df-convert');\n",
              "      buttonEl.style.display =\n",
              "        google.colab.kernel.accessAllowed ? 'block' : 'none';\n",
              "\n",
              "      async function convertToInteractive(key) {\n",
              "        const element = document.querySelector('#df-996a4ff2-2348-4949-9d70-1495420cf2b1');\n",
              "        const dataTable =\n",
              "          await google.colab.kernel.invokeFunction('convertToInteractive',\n",
              "                                                    [key], {});\n",
              "        if (!dataTable) return;\n",
              "\n",
              "        const docLinkHtml = 'Like what you see? Visit the ' +\n",
              "          '<a target=\"_blank\" href=https://colab.research.google.com/notebooks/data_table.ipynb>data table notebook</a>'\n",
              "          + ' to learn more about interactive tables.';\n",
              "        element.innerHTML = '';\n",
              "        dataTable['output_type'] = 'display_data';\n",
              "        await google.colab.output.renderOutput(dataTable, element);\n",
              "        const docLink = document.createElement('div');\n",
              "        docLink.innerHTML = docLinkHtml;\n",
              "        element.appendChild(docLink);\n",
              "      }\n",
              "    </script>\n",
              "  </div>\n",
              "\n",
              "\n",
              "    <div id=\"df-b05234ba-5ea9-4ab4-ab45-98893fba4604\">\n",
              "      <button class=\"colab-df-quickchart\" onclick=\"quickchart('df-b05234ba-5ea9-4ab4-ab45-98893fba4604')\"\n",
              "                title=\"Suggest charts\"\n",
              "                style=\"display:none;\">\n",
              "\n",
              "<svg xmlns=\"http://www.w3.org/2000/svg\" height=\"24px\"viewBox=\"0 0 24 24\"\n",
              "     width=\"24px\">\n",
              "    <g>\n",
              "        <path d=\"M19 3H5c-1.1 0-2 .9-2 2v14c0 1.1.9 2 2 2h14c1.1 0 2-.9 2-2V5c0-1.1-.9-2-2-2zM9 17H7v-7h2v7zm4 0h-2V7h2v10zm4 0h-2v-4h2v4z\"/>\n",
              "    </g>\n",
              "</svg>\n",
              "      </button>\n",
              "\n",
              "<style>\n",
              "  .colab-df-quickchart {\n",
              "      --bg-color: #E8F0FE;\n",
              "      --fill-color: #1967D2;\n",
              "      --hover-bg-color: #E2EBFA;\n",
              "      --hover-fill-color: #174EA6;\n",
              "      --disabled-fill-color: #AAA;\n",
              "      --disabled-bg-color: #DDD;\n",
              "  }\n",
              "\n",
              "  [theme=dark] .colab-df-quickchart {\n",
              "      --bg-color: #3B4455;\n",
              "      --fill-color: #D2E3FC;\n",
              "      --hover-bg-color: #434B5C;\n",
              "      --hover-fill-color: #FFFFFF;\n",
              "      --disabled-bg-color: #3B4455;\n",
              "      --disabled-fill-color: #666;\n",
              "  }\n",
              "\n",
              "  .colab-df-quickchart {\n",
              "    background-color: var(--bg-color);\n",
              "    border: none;\n",
              "    border-radius: 50%;\n",
              "    cursor: pointer;\n",
              "    display: none;\n",
              "    fill: var(--fill-color);\n",
              "    height: 32px;\n",
              "    padding: 0;\n",
              "    width: 32px;\n",
              "  }\n",
              "\n",
              "  .colab-df-quickchart:hover {\n",
              "    background-color: var(--hover-bg-color);\n",
              "    box-shadow: 0 1px 2px rgba(60, 64, 67, 0.3), 0 1px 3px 1px rgba(60, 64, 67, 0.15);\n",
              "    fill: var(--button-hover-fill-color);\n",
              "  }\n",
              "\n",
              "  .colab-df-quickchart-complete:disabled,\n",
              "  .colab-df-quickchart-complete:disabled:hover {\n",
              "    background-color: var(--disabled-bg-color);\n",
              "    fill: var(--disabled-fill-color);\n",
              "    box-shadow: none;\n",
              "  }\n",
              "\n",
              "  .colab-df-spinner {\n",
              "    border: 2px solid var(--fill-color);\n",
              "    border-color: transparent;\n",
              "    border-bottom-color: var(--fill-color);\n",
              "    animation:\n",
              "      spin 1s steps(1) infinite;\n",
              "  }\n",
              "\n",
              "  @keyframes spin {\n",
              "    0% {\n",
              "      border-color: transparent;\n",
              "      border-bottom-color: var(--fill-color);\n",
              "      border-left-color: var(--fill-color);\n",
              "    }\n",
              "    20% {\n",
              "      border-color: transparent;\n",
              "      border-left-color: var(--fill-color);\n",
              "      border-top-color: var(--fill-color);\n",
              "    }\n",
              "    30% {\n",
              "      border-color: transparent;\n",
              "      border-left-color: var(--fill-color);\n",
              "      border-top-color: var(--fill-color);\n",
              "      border-right-color: var(--fill-color);\n",
              "    }\n",
              "    40% {\n",
              "      border-color: transparent;\n",
              "      border-right-color: var(--fill-color);\n",
              "      border-top-color: var(--fill-color);\n",
              "    }\n",
              "    60% {\n",
              "      border-color: transparent;\n",
              "      border-right-color: var(--fill-color);\n",
              "    }\n",
              "    80% {\n",
              "      border-color: transparent;\n",
              "      border-right-color: var(--fill-color);\n",
              "      border-bottom-color: var(--fill-color);\n",
              "    }\n",
              "    90% {\n",
              "      border-color: transparent;\n",
              "      border-bottom-color: var(--fill-color);\n",
              "    }\n",
              "  }\n",
              "</style>\n",
              "\n",
              "      <script>\n",
              "        async function quickchart(key) {\n",
              "          const quickchartButtonEl =\n",
              "            document.querySelector('#' + key + ' button');\n",
              "          quickchartButtonEl.disabled = true;  // To prevent multiple clicks.\n",
              "          quickchartButtonEl.classList.add('colab-df-spinner');\n",
              "          try {\n",
              "            const charts = await google.colab.kernel.invokeFunction(\n",
              "                'suggestCharts', [key], {});\n",
              "          } catch (error) {\n",
              "            console.error('Error during call to suggestCharts:', error);\n",
              "          }\n",
              "          quickchartButtonEl.classList.remove('colab-df-spinner');\n",
              "          quickchartButtonEl.classList.add('colab-df-quickchart-complete');\n",
              "        }\n",
              "        (() => {\n",
              "          let quickchartButtonEl =\n",
              "            document.querySelector('#df-b05234ba-5ea9-4ab4-ab45-98893fba4604 button');\n",
              "          quickchartButtonEl.style.display =\n",
              "            google.colab.kernel.accessAllowed ? 'block' : 'none';\n",
              "        })();\n",
              "      </script>\n",
              "    </div>\n",
              "\n",
              "    </div>\n",
              "  </div>\n"
            ],
            "application/vnd.google.colaboratory.intrinsic+json": {
              "type": "dataframe",
              "variable_name": "data",
              "summary": "{\n  \"name\": \"data\",\n  \"rows\": 50000,\n  \"fields\": [\n    {\n      \"column\": \"review\",\n      \"properties\": {\n        \"dtype\": \"string\",\n        \"num_unique_values\": 49582,\n        \"samples\": [\n          \"\\\"Soul Plane\\\" is a horrible attempt at comedy that only should appeal people with thick skulls, bloodshot eyes and furry pawns. <br /><br />The plot is not only incoherent but also non-existent, acting is mostly sub sub-par with a gang of highly moronic and dreadful characters thrown in for bad measure, jokes are often spotted miles ahead and almost never even a bit amusing. This movie lacks any structure and is full of racial stereotypes that must have seemed old even in the fifties, the only thing it really has going for it is some pretty ladies, but really, if you want that you can rent something from the \\\"Adult\\\" section. OK?<br /><br />I can hardly see anything here to recommend since you'll probably have a lot a better and productive time chasing rats with a sledgehammer or inventing waterproof teabags or whatever.<br /><br />2/10\",\n          \"Guest from the Future tells a fascinating story of time travel, friendship, battle of good and evil -- all with a small budget, child actors, and few special effects. Something for Spielberg and Lucas to learn from. ;) A sixth-grader Kolya \\\"Nick\\\" Gerasimov finds a time machine in the basement of a decrepit building and travels 100 years into the future. He discovers a near-perfect, utopian society where robots play guitars and write poetry, everyone is kind to each other and people enjoy everything technology has to offer. Alice is the daughter of a prominent scientist who invented a device called Mielophone that allows to read minds of humans and animals. The device can be put to both good and bad use, depending on whose hands it falls into. When two evil space pirates from Saturn who want to rule the universe attempt to steal Mielophone, it falls into the hands of 20th century school boy Nick. With the pirates hot on his tracks, he travels back to his time, followed by the pirates, and Alice. Chaos, confusion and funny situations follow as the luckless pirates try to blend in with the earthlings. Alice enrolls in the same school Nick goes to and demonstrates superhuman abilities in PE class. The catch is, Alice doesn't know what Nick looks like, while the pirates do. Also, the pirates are able to change their appearance and turn literally into anyone. (Hmm, I wonder if this is where James Cameron got the idea for Terminator...) Who gets to Nick -- and Mielophone -- first? Excellent plot, non-stop adventures, and great soundtrack. I wish Hollywood made kid movies like this one...\",\n          \"\\\"National Treasure\\\" (2004) is a thoroughly misguided hodge-podge of plot entanglements that borrow from nearly every cloak and dagger government conspiracy clich\\u00e9 that has ever been written. The film stars Nicholas Cage as Benjamin Franklin Gates (how precious is that, I ask you?); a seemingly normal fellow who, for no other reason than being of a lineage of like-minded misguided fortune hunters, decides to steal a 'national treasure' that has been hidden by the United States founding fathers. After a bit of subtext and background that plays laughably (unintentionally) like Indiana Jones meets The Patriot, the film degenerates into one misguided whimsy after another \\u0096 attempting to create a 'Stanley Goodspeed' regurgitation of Nicholas Cage and launch the whole convoluted mess forward with a series of high octane, but disconnected misadventures.<br /><br />The relevancy and logic to having George Washington and his motley crew of patriots burying a king's ransom someplace on native soil, and then, going through the meticulous plan of leaving clues scattered throughout U.S. currency art work, is something that director Jon Turteltaub never quite gets around to explaining. Couldn't Washington found better usage for such wealth during the start up of the country? Hence, we are left with a mystery built on top of an enigma that is already on shaky ground by the time Ben appoints himself the new custodian of this untold wealth. Ben's intentions are noble \\u0096 if confusing. He's set on protecting the treasure. For who and when?\\u0085your guess is as good as mine.<br /><br />But there are a few problems with Ben's crusade. First up, his friend, Ian Holmes (Sean Bean) decides that he can't wait for Ben to make up his mind about stealing the Declaration of Independence from the National Archives (oh, yeah \\u0096 brilliant idea!). Presumably, the back of that famous document holds the secret answer to the ultimate fortune. So Ian tries to kill Ben. The assassination attempt is, of course, unsuccessful, if overly melodramatic. It also affords Ben the opportunity to pick up, and pick on, the very sultry curator of the archives, Abigail Chase (Diane Kruger). She thinks Ben is clearly a nut \\u0096 at least at the beginning. But true to action/romance form, Abby's resolve melts quicker than you can say, \\\"is that the Hope Diamond?\\\" The film moves into full X-File-ish mode, as the FBI, mistakenly believing that Ben is behind the theft, retaliate in various benign ways that lead to a multi-layering of action sequences reminiscent of Mission Impossible meets The Fugitive. Honestly, don't those guys ever get 'intelligence' information that is correct? In the final analysis, \\\"National Treasure\\\" isn't great film making, so much as it's a patchwork rehash of tired old bits from other movies, woven together from scraps, the likes of which would make IL' Betsy Ross blush.<br /><br />The Buena Vista DVD delivers a far more generous treatment than this film is deserving of. The anamorphic widescreen picture exhibits a very smooth and finely detailed image with very rich colors, natural flesh tones, solid blacks and clean whites. The stylized image is also free of blemishes and digital enhancements. The audio is 5.1 and delivers a nice sonic boom to your side and rear speakers with intensity and realism. Extras include a host of promotional junket material that is rather deep and over the top in its explanation of how and why this film was made. If only, as an audience, we had had more clarification as to why Ben and co. were chasing after an illusive treasure, this might have been one good flick. Extras conclude with the theatrical trailer, audio commentary and deleted scenes. Not for the faint-hearted \\u0096 just the thick-headed.\"\n        ],\n        \"semantic_type\": \"\",\n        \"description\": \"\"\n      }\n    },\n    {\n      \"column\": \"sentiment\",\n      \"properties\": {\n        \"dtype\": \"category\",\n        \"num_unique_values\": 2,\n        \"samples\": [\n          \"negative\",\n          \"positive\"\n        ],\n        \"semantic_type\": \"\",\n        \"description\": \"\"\n      }\n    }\n  ]\n}"
            }
          },
          "metadata": {},
          "execution_count": 6
        }
      ],
      "source": [
        "print(\"Loading data...\")\n",
        "data = pd.read_csv(\"/content/drive/MyDrive/IMDB Dataset.csv\")\n",
        "\n",
        "print(f\"Dataset shape: {data.shape}\")\n",
        "print(f\"\\nFirst few rows:\")\n",
        "data.head()"
      ]
    },
    {
      "cell_type": "code",
      "execution_count": 7,
      "metadata": {
        "colab": {
          "base_uri": "https://localhost:8080/"
        },
        "id": "Ixg5fobayTMN",
        "outputId": "8f4ba4e9-2af5-4772-a36b-134d1dfa1d90"
      },
      "outputs": [
        {
          "output_type": "stream",
          "name": "stdout",
          "text": [
            "<class 'pandas.core.frame.DataFrame'>\n",
            "RangeIndex: 50000 entries, 0 to 49999\n",
            "Data columns (total 2 columns):\n",
            " #   Column     Non-Null Count  Dtype \n",
            "---  ------     --------------  ----- \n",
            " 0   review     50000 non-null  object\n",
            " 1   sentiment  50000 non-null  object\n",
            "dtypes: object(2)\n",
            "memory usage: 781.4+ KB\n"
          ]
        }
      ],
      "source": [
        "# Dataset info\n",
        "data.info()"
      ]
    },
    {
      "cell_type": "code",
      "execution_count": 8,
      "metadata": {
        "colab": {
          "base_uri": "https://localhost:8080/",
          "height": 638
        },
        "id": "P0H_h7_xyTMN",
        "outputId": "dbd8908d-0e92-48fb-bd60-dca5bea261a8"
      },
      "outputs": [
        {
          "output_type": "display_data",
          "data": {
            "text/plain": [
              "<Figure size 800x600 with 1 Axes>"
            ],
            "image/png": "[encoded data removed]"
          },
          "metadata": {}
        },
        {
          "output_type": "stream",
          "name": "stdout",
          "text": [
            "sentiment\n",
            "positive    25000\n",
            "negative    25000\n",
            "Name: count, dtype: int64\n"
          ]
        }
      ],
      "source": [
        "# Visualize sentiment distribution\n",
        "plt.figure(figsize=(8, 6))\n",
        "sns.countplot(data=data, x=\"sentiment\", palette=[\"red\", \"green\"])\n",
        "plt.title('Sentiment Distribution', fontsize=14, fontweight='bold')\n",
        "plt.xlabel('Sentiment', fontsize=12)\n",
        "plt.ylabel('Count', fontsize=12)\n",
        "plt.show()\n",
        "\n",
        "print(data.sentiment.value_counts())"
      ]
    },
    {
      "cell_type": "code",
      "execution_count": 9,
      "metadata": {
        "colab": {
          "base_uri": "https://localhost:8080/",
          "height": 293
        },
        "id": "72PsXqvjyTMO",
        "outputId": "c4e9c006-3961-41c2-e04b-6527977ea689"
      },
      "outputs": [
        {
          "output_type": "stream",
          "name": "stdout",
          "text": [
            "Sentiment converted to binary:\n",
            "sentiment\n",
            "1    25000\n",
            "0    25000\n",
            "Name: count, dtype: int64\n"
          ]
        },
        {
          "output_type": "execute_result",
          "data": {
            "text/plain": [
              "                                              review  sentiment\n",
              "0  One of the other reviewers has mentioned that ...          1\n",
              "1  A wonderful little production. <br /><br />The...          1\n",
              "2  I thought this was a wonderful way to spend ti...          1\n",
              "3  Basically there's a family where a little boy ...          0\n",
              "4  Petter Mattei's \"Love in the Time of Money\" is...          1"
            ],
            "text/html": [
              "\n",
              "  <div id=\"df-42d98636-3ab6-405a-893d-1aab683c3425\" class=\"colab-df-container\">\n",
              "    <div>\n",
              "<style scoped>\n",
              "    .dataframe tbody tr th:only-of-type {\n",
              "        vertical-align: middle;\n",
              "    }\n",
              "\n",
              "    .dataframe tbody tr th {\n",
              "        vertical-align: top;\n",
              "    }\n",
              "\n",
              "    .dataframe thead th {\n",
              "        text-align: right;\n",
              "    }\n",
              "</style>\n",
              "<table border=\"1\" class=\"dataframe\">\n",
              "  <thead>\n",
              "    <tr style=\"text-align: right;\">\n",
              "      <th></th>\n",
              "      <th>review</th>\n",
              "      <th>sentiment</th>\n",
              "    </tr>\n",
              "  </thead>\n",
              "  <tbody>\n",
              "    <tr>\n",
              "      <th>0</th>\n",
              "      <td>One of the other reviewers has mentioned that ...</td>\n",
              "      <td>1</td>\n",
              "    </tr>\n",
              "    <tr>\n",
              "      <th>1</th>\n",
              "      <td>A wonderful little production. &lt;br /&gt;&lt;br /&gt;The...</td>\n",
              "      <td>1</td>\n",
              "    </tr>\n",
              "    <tr>\n",
              "      <th>2</th>\n",
              "      <td>I thought this was a wonderful way to spend ti...</td>\n",
              "      <td>1</td>\n",
              "    </tr>\n",
              "    <tr>\n",
              "      <th>3</th>\n",
              "      <td>Basically there's a family where a little boy ...</td>\n",
              "      <td>0</td>\n",
              "    </tr>\n",
              "    <tr>\n",
              "      <th>4</th>\n",
              "      <td>Petter Mattei's \"Love in the Time of Money\" is...</td>\n",
              "      <td>1</td>\n",
              "    </tr>\n",
              "  </tbody>\n",
              "</table>\n",
              "</div>\n",
              "    <div class=\"colab-df-buttons\">\n",
              "\n",
              "  <div class=\"colab-df-container\">\n",
              "    <button class=\"colab-df-convert\" onclick=\"convertToInteractive('df-42d98636-3ab6-405a-893d-1aab683c3425')\"\n",
              "            title=\"Convert this dataframe to an interactive table.\"\n",
              "            style=\"display:none;\">\n",
              "\n",
              "  <svg xmlns=\"http://www.w3.org/2000/svg\" height=\"24px\" viewBox=\"0 -960 960 960\">\n",
              "    <path d=\"M120-120v-720h720v720H120Zm60-500h600v-160H180v160Zm220 220h160v-160H400v160Zm0 220h160v-160H400v160ZM180-400h160v-160H180v160Zm440 0h160v-160H620v160ZM180-180h160v-160H180v160Zm440 0h160v-160H620v160Z\"/>\n",
              "  </svg>\n",
              "    </button>\n",
              "\n",
              "  <style>\n",
              "    .colab-df-container {\n",
              "      display:flex;\n",
              "      gap: 12px;\n",
              "    }\n",
              "\n",
              "    .colab-df-convert {\n",
              "      background-color: #E8F0FE;\n",
              "      border: none;\n",
              "      border-radius: 50%;\n",
              "      cursor: pointer;\n",
              "      display: none;\n",
              "      fill: #1967D2;\n",
              "      height: 32px;\n",
              "      padding: 0 0 0 0;\n",
              "      width: 32px;\n",
              "    }\n",
              "\n",
              "    .colab-df-convert:hover {\n",
              "      background-color: #E2EBFA;\n",
              "      box-shadow: 0px 1px 2px rgba(60, 64, 67, 0.3), 0px 1px 3px 1px rgba(60, 64, 67, 0.15);\n",
              "      fill: #174EA6;\n",
              "    }\n",
              "\n",
              "    .colab-df-buttons div {\n",
              "      margin-bottom: 4px;\n",
              "    }\n",
              "\n",
              "    [theme=dark] .colab-df-convert {\n",
              "      background-color: #3B4455;\n",
              "      fill: #D2E3FC;\n",
              "    }\n",
              "\n",
              "    [theme=dark] .colab-df-convert:hover {\n",
              "      background-color: #434B5C;\n",
              "      box-shadow: 0px 1px 3px 1px rgba(0, 0, 0, 0.15);\n",
              "      filter: drop-shadow(0px 1px 2px rgba(0, 0, 0, 0.3));\n",
              "      fill: #FFFFFF;\n",
              "    }\n",
              "  </style>\n",
              "\n",
              "    <script>\n",
              "      const buttonEl =\n",
              "        document.querySelector('#df-42d98636-3ab6-405a-893d-1aab683c3425 button.colab-df-convert');\n",
              "      buttonEl.style.display =\n",
              "        google.colab.kernel.accessAllowed ? 'block' : 'none';\n",
              "\n",
              "      async function convertToInteractive(key) {\n",
              "        const element = document.querySelector('#df-42d98636-3ab6-405a-893d-1aab683c3425');\n",
              "        const dataTable =\n",
              "          await google.colab.kernel.invokeFunction('convertToInteractive',\n",
              "                                                    [key], {});\n",
              "        if (!dataTable) return;\n",
              "\n",
              "        const docLinkHtml = 'Like what you see? Visit the ' +\n",
              "          '<a target=\"_blank\" href=https://colab.research.google.com/notebooks/data_table.ipynb>data table notebook</a>'\n",
              "          + ' to learn more about interactive tables.';\n",
              "        element.innerHTML = '';\n",
              "        dataTable['output_type'] = 'display_data';\n",
              "        await google.colab.output.renderOutput(dataTable, element);\n",
              "        const docLink = document.createElement('div');\n",
              "        docLink.innerHTML = docLinkHtml;\n",
              "        element.appendChild(docLink);\n",
              "      }\n",
              "    </script>\n",
              "  </div>\n",
              "\n",
              "\n",
              "    <div id=\"df-594529a8-b474-4a34-b1d4-5991cf767c8b\">\n",
              "      <button class=\"colab-df-quickchart\" onclick=\"quickchart('df-594529a8-b474-4a34-b1d4-5991cf767c8b')\"\n",
              "                title=\"Suggest charts\"\n",
              "                style=\"display:none;\">\n",
              "\n",
              "<svg xmlns=\"http://www.w3.org/2000/svg\" height=\"24px\"viewBox=\"0 0 24 24\"\n",
              "     width=\"24px\">\n",
              "    <g>\n",
              "        <path d=\"M19 3H5c-1.1 0-2 .9-2 2v14c0 1.1.9 2 2 2h14c1.1 0 2-.9 2-2V5c0-1.1-.9-2-2-2zM9 17H7v-7h2v7zm4 0h-2V7h2v10zm4 0h-2v-4h2v4z\"/>\n",
              "    </g>\n",
              "</svg>\n",
              "      </button>\n",
              "\n",
              "<style>\n",
              "  .colab-df-quickchart {\n",
              "      --bg-color: #E8F0FE;\n",
              "      --fill-color: #1967D2;\n",
              "      --hover-bg-color: #E2EBFA;\n",
              "      --hover-fill-color: #174EA6;\n",
              "      --disabled-fill-color: #AAA;\n",
              "      --disabled-bg-color: #DDD;\n",
              "  }\n",
              "\n",
              "  [theme=dark] .colab-df-quickchart {\n",
              "      --bg-color: #3B4455;\n",
              "      --fill-color: #D2E3FC;\n",
              "      --hover-bg-color: #434B5C;\n",
              "      --hover-fill-color: #FFFFFF;\n",
              "      --disabled-bg-color: #3B4455;\n",
              "      --disabled-fill-color: #666;\n",
              "  }\n",
              "\n",
              "  .colab-df-quickchart {\n",
              "    background-color: var(--bg-color);\n",
              "    border: none;\n",
              "    border-radius: 50%;\n",
              "    cursor: pointer;\n",
              "    display: none;\n",
              "    fill: var(--fill-color);\n",
              "    height: 32px;\n",
              "    padding: 0;\n",
              "    width: 32px;\n",
              "  }\n",
              "\n",
              "  .colab-df-quickchart:hover {\n",
              "    background-color: var(--hover-bg-color);\n",
              "    box-shadow: 0 1px 2px rgba(60, 64, 67, 0.3), 0 1px 3px 1px rgba(60, 64, 67, 0.15);\n",
              "    fill: var(--button-hover-fill-color);\n",
              "  }\n",
              "\n",
              "  .colab-df-quickchart-complete:disabled,\n",
              "  .colab-df-quickchart-complete:disabled:hover {\n",
              "    background-color: var(--disabled-bg-color);\n",
              "    fill: var(--disabled-fill-color);\n",
              "    box-shadow: none;\n",
              "  }\n",
              "\n",
              "  .colab-df-spinner {\n",
              "    border: 2px solid var(--fill-color);\n",
              "    border-color: transparent;\n",
              "    border-bottom-color: var(--fill-color);\n",
              "    animation:\n",
              "      spin 1s steps(1) infinite;\n",
              "  }\n",
              "\n",
              "  @keyframes spin {\n",
              "    0% {\n",
              "      border-color: transparent;\n",
              "      border-bottom-color: var(--fill-color);\n",
              "      border-left-color: var(--fill-color);\n",
              "    }\n",
              "    20% {\n",
              "      border-color: transparent;\n",
              "      border-left-color: var(--fill-color);\n",
              "      border-top-color: var(--fill-color);\n",
              "    }\n",
              "    30% {\n",
              "      border-color: transparent;\n",
              "      border-left-color: var(--fill-color);\n",
              "      border-top-color: var(--fill-color);\n",
              "      border-right-color: var(--fill-color);\n",
              "    }\n",
              "    40% {\n",
              "      border-color: transparent;\n",
              "      border-right-color: var(--fill-color);\n",
              "      border-top-color: var(--fill-color);\n",
              "    }\n",
              "    60% {\n",
              "      border-color: transparent;\n",
              "      border-right-color: var(--fill-color);\n",
              "    }\n",
              "    80% {\n",
              "      border-color: transparent;\n",
              "      border-right-color: var(--fill-color);\n",
              "      border-bottom-color: var(--fill-color);\n",
              "    }\n",
              "    90% {\n",
              "      border-color: transparent;\n",
              "      border-bottom-color: var(--fill-color);\n",
              "    }\n",
              "  }\n",
              "</style>\n",
              "\n",
              "      <script>\n",
              "        async function quickchart(key) {\n",
              "          const quickchartButtonEl =\n",
              "            document.querySelector('#' + key + ' button');\n",
              "          quickchartButtonEl.disabled = true;  // To prevent multiple clicks.\n",
              "          quickchartButtonEl.classList.add('colab-df-spinner');\n",
              "          try {\n",
              "            const charts = await google.colab.kernel.invokeFunction(\n",
              "                'suggestCharts', [key], {});\n",
              "          } catch (error) {\n",
              "            console.error('Error during call to suggestCharts:', error);\n",
              "          }\n",
              "          quickchartButtonEl.classList.remove('colab-df-spinner');\n",
              "          quickchartButtonEl.classList.add('colab-df-quickchart-complete');\n",
              "        }\n",
              "        (() => {\n",
              "          let quickchartButtonEl =\n",
              "            document.querySelector('#df-594529a8-b474-4a34-b1d4-5991cf767c8b button');\n",
              "          quickchartButtonEl.style.display =\n",
              "            google.colab.kernel.accessAllowed ? 'block' : 'none';\n",
              "        })();\n",
              "      </script>\n",
              "    </div>\n",
              "\n",
              "    </div>\n",
              "  </div>\n"
            ],
            "application/vnd.google.colaboratory.intrinsic+json": {
              "type": "dataframe",
              "variable_name": "data",
              "summary": "{\n  \"name\": \"data\",\n  \"rows\": 50000,\n  \"fields\": [\n    {\n      \"column\": \"review\",\n      \"properties\": {\n        \"dtype\": \"string\",\n        \"num_unique_values\": 49582,\n        \"samples\": [\n          \"\\\"Soul Plane\\\" is a horrible attempt at comedy that only should appeal people with thick skulls, bloodshot eyes and furry pawns. <br /><br />The plot is not only incoherent but also non-existent, acting is mostly sub sub-par with a gang of highly moronic and dreadful characters thrown in for bad measure, jokes are often spotted miles ahead and almost never even a bit amusing. This movie lacks any structure and is full of racial stereotypes that must have seemed old even in the fifties, the only thing it really has going for it is some pretty ladies, but really, if you want that you can rent something from the \\\"Adult\\\" section. OK?<br /><br />I can hardly see anything here to recommend since you'll probably have a lot a better and productive time chasing rats with a sledgehammer or inventing waterproof teabags or whatever.<br /><br />2/10\",\n          \"Guest from the Future tells a fascinating story of time travel, friendship, battle of good and evil -- all with a small budget, child actors, and few special effects. Something for Spielberg and Lucas to learn from. ;) A sixth-grader Kolya \\\"Nick\\\" Gerasimov finds a time machine in the basement of a decrepit building and travels 100 years into the future. He discovers a near-perfect, utopian society where robots play guitars and write poetry, everyone is kind to each other and people enjoy everything technology has to offer. Alice is the daughter of a prominent scientist who invented a device called Mielophone that allows to read minds of humans and animals. The device can be put to both good and bad use, depending on whose hands it falls into. When two evil space pirates from Saturn who want to rule the universe attempt to steal Mielophone, it falls into the hands of 20th century school boy Nick. With the pirates hot on his tracks, he travels back to his time, followed by the pirates, and Alice. Chaos, confusion and funny situations follow as the luckless pirates try to blend in with the earthlings. Alice enrolls in the same school Nick goes to and demonstrates superhuman abilities in PE class. The catch is, Alice doesn't know what Nick looks like, while the pirates do. Also, the pirates are able to change their appearance and turn literally into anyone. (Hmm, I wonder if this is where James Cameron got the idea for Terminator...) Who gets to Nick -- and Mielophone -- first? Excellent plot, non-stop adventures, and great soundtrack. I wish Hollywood made kid movies like this one...\",\n          \"\\\"National Treasure\\\" (2004) is a thoroughly misguided hodge-podge of plot entanglements that borrow from nearly every cloak and dagger government conspiracy clich\\u00e9 that has ever been written. The film stars Nicholas Cage as Benjamin Franklin Gates (how precious is that, I ask you?); a seemingly normal fellow who, for no other reason than being of a lineage of like-minded misguided fortune hunters, decides to steal a 'national treasure' that has been hidden by the United States founding fathers. After a bit of subtext and background that plays laughably (unintentionally) like Indiana Jones meets The Patriot, the film degenerates into one misguided whimsy after another \\u0096 attempting to create a 'Stanley Goodspeed' regurgitation of Nicholas Cage and launch the whole convoluted mess forward with a series of high octane, but disconnected misadventures.<br /><br />The relevancy and logic to having George Washington and his motley crew of patriots burying a king's ransom someplace on native soil, and then, going through the meticulous plan of leaving clues scattered throughout U.S. currency art work, is something that director Jon Turteltaub never quite gets around to explaining. Couldn't Washington found better usage for such wealth during the start up of the country? Hence, we are left with a mystery built on top of an enigma that is already on shaky ground by the time Ben appoints himself the new custodian of this untold wealth. Ben's intentions are noble \\u0096 if confusing. He's set on protecting the treasure. For who and when?\\u0085your guess is as good as mine.<br /><br />But there are a few problems with Ben's crusade. First up, his friend, Ian Holmes (Sean Bean) decides that he can't wait for Ben to make up his mind about stealing the Declaration of Independence from the National Archives (oh, yeah \\u0096 brilliant idea!). Presumably, the back of that famous document holds the secret answer to the ultimate fortune. So Ian tries to kill Ben. The assassination attempt is, of course, unsuccessful, if overly melodramatic. It also affords Ben the opportunity to pick up, and pick on, the very sultry curator of the archives, Abigail Chase (Diane Kruger). She thinks Ben is clearly a nut \\u0096 at least at the beginning. But true to action/romance form, Abby's resolve melts quicker than you can say, \\\"is that the Hope Diamond?\\\" The film moves into full X-File-ish mode, as the FBI, mistakenly believing that Ben is behind the theft, retaliate in various benign ways that lead to a multi-layering of action sequences reminiscent of Mission Impossible meets The Fugitive. Honestly, don't those guys ever get 'intelligence' information that is correct? In the final analysis, \\\"National Treasure\\\" isn't great film making, so much as it's a patchwork rehash of tired old bits from other movies, woven together from scraps, the likes of which would make IL' Betsy Ross blush.<br /><br />The Buena Vista DVD delivers a far more generous treatment than this film is deserving of. The anamorphic widescreen picture exhibits a very smooth and finely detailed image with very rich colors, natural flesh tones, solid blacks and clean whites. The stylized image is also free of blemishes and digital enhancements. The audio is 5.1 and delivers a nice sonic boom to your side and rear speakers with intensity and realism. Extras include a host of promotional junket material that is rather deep and over the top in its explanation of how and why this film was made. If only, as an audience, we had had more clarification as to why Ben and co. were chasing after an illusive treasure, this might have been one good flick. Extras conclude with the theatrical trailer, audio commentary and deleted scenes. Not for the faint-hearted \\u0096 just the thick-headed.\"\n        ],\n        \"semantic_type\": \"\",\n        \"description\": \"\"\n      }\n    },\n    {\n      \"column\": \"sentiment\",\n      \"properties\": {\n        \"dtype\": \"number\",\n        \"std\": 0,\n        \"min\": 0,\n        \"max\": 1,\n        \"num_unique_values\": 2,\n        \"samples\": [\n          0,\n          1\n        ],\n        \"semantic_type\": \"\",\n        \"description\": \"\"\n      }\n    }\n  ]\n}"
            }
          },
          "metadata": {},
          "execution_count": 9
        }
      ],
      "source": [
        "# Convert sentiment to binary (positive=1, negative=0)\n",
        "data['sentiment'] = data['sentiment'].apply(lambda x: 1 if x == \"positive\" else 0)\n",
        "\n",
        "print(\"Sentiment converted to binary:\")\n",
        "print(data.sentiment.value_counts())\n",
        "data.head()"
      ]
    },
    {
      "cell_type": "markdown",
      "metadata": {
        "id": "w8lbYOGAyTMO"
      },
      "source": [
        "## 3. Text Preprocessing (CORRECTED ORDER)\n",
        "\n",
        "### ⚠️ CRITICAL FIXES:\n",
        "1. **Fixed `denoise_text()` function** - Now actually cleans the text\n",
        "2. **Correct preprocessing order** - HTML removal → Cleaning → Stopwords removal"
      ]
    },
    {
      "cell_type": "code",
      "execution_count": 10,
      "metadata": {
        "colab": {
          "base_uri": "https://localhost:8080/"
        },
        "id": "p5smb1bMyTMO",
        "outputId": "43e07394-8d5d-485a-9771-e127d0c9342e"
      },
      "outputs": [
        {
          "output_type": "stream",
          "name": "stdout",
          "text": [
            "Stopwords loaded: 198 words\n"
          ]
        }
      ],
      "source": [
        "# Initialize stopwords and tokenizer\n",
        "stop_word_list = stopwords.words('english')\n",
        "tokenizer_nltk = ToktokTokenizer()\n",
        "\n",
        "print(f\"Stopwords loaded: {len(stop_word_list)} words\")"
      ]
    },
    {
      "cell_type": "code",
      "execution_count": 11,
      "metadata": {
        "colab": {
          "base_uri": "https://localhost:8080/"
        },
        "id": "2_xWhQbVyTMP",
        "outputId": "df051a67-ccdb-4f2b-957b-ffccebffd8c9"
      },
      "outputs": [
        {
          "metadata": {
            "tags": null
          },
          "name": "stdout",
          "output_type": "stream",
          "text": [
            "✓ Preprocessing functions defined\n"
          ]
        }
      ],
      "source": [
        "# Define preprocessing functions\n",
        "\n",
        "def strip_html(text):\n",
        "    \"\"\"Remove HTML tags\"\"\"\n",
        "    soup = BeautifulSoup(text, \"html.parser\")\n",
        "    return soup.get_text()\n",
        "\n",
        "def remove_between_square_brackets(text):\n",
        "    \"\"\"Remove text in square brackets\"\"\"\n",
        "    return re.sub(r'\\[[^\\]]*\\]', '', text)\n",
        "\n",
        "def denoise_text(text):\n",
        "    \"\"\"✅ FIXED: Now actually applies the cleaning functions!\"\"\"\n",
        "    text = strip_html(text)\n",
        "    text = remove_between_square_brackets(text)\n",
        "    return text  # Return statement at the END\n",
        "\n",
        "def remove_stopwords(text):\n",
        "    \"\"\"Remove stopwords from text\"\"\"\n",
        "    tokens = tokenizer_nltk.tokenize(text)\n",
        "    tokens = [token.strip() for token in tokens]\n",
        "    filtered_tokens = [token for token in tokens if token.lower() not in stop_word_list]\n",
        "    return ' '.join(filtered_tokens)\n",
        "\n",
        "print(\"✓ Preprocessing functions defined\")"
      ]
    },
    {
      "cell_type": "code",
      "execution_count": 12,
      "metadata": {
        "colab": {
          "base_uri": "https://localhost:8080/"
        },
        "id": "vgLdWiV1yTMP",
        "outputId": "4338d313-f16e-4b55-d45d-32079bedd7e8"
      },
      "outputs": [
        {
          "metadata": {
            "tags": null
          },
          "name": "stdout",
          "output_type": "stream",
          "text": [
            "Sample text BEFORE preprocessing:\n",
            "======================================================================\n",
            "One of the other reviewers has mentioned that after watching just 1 Oz episode you'll be hooked. They are right, as this is exactly what happened with me.<br /><br />The first thing that struck me about Oz was its brutality and unflinching scenes of violence, which set in right from the word GO. Tru\n",
            "======================================================================\n"
          ]
        }
      ],
      "source": [
        "# Show sample text BEFORE preprocessing\n",
        "print(\"Sample text BEFORE preprocessing:\")\n",
        "print(\"=\"*70)\n",
        "print(data['review'].iloc[0][:300])\n",
        "print(\"=\"*70)"
      ]
    },
    {
      "cell_type": "markdown",
      "metadata": {
        "id": "8W9tjYGKyTMP"
      },
      "source": [
        "### Apply Preprocessing Steps in Correct Order"
      ]
    },
    {
      "cell_type": "code",
      "execution_count": 13,
      "metadata": {
        "colab": {
          "base_uri": "https://localhost:8080/"
        },
        "id": "UCOlaS70yTMP",
        "outputId": "682b1f9f-af2f-4eb5-ae8e-36dcf7a4a585"
      },
      "outputs": [
        {
          "output_type": "stream",
          "name": "stdout",
          "text": [
            "Step 1: Removing HTML and square brackets...\n",
            "✓ Done\n"
          ]
        }
      ],
      "source": [
        "# STEP 1: Remove HTML and square brackets FIRST\n",
        "print(\"Step 1: Removing HTML and square brackets...\")\n",
        "data['review'] = data['review'].apply(denoise_text)\n",
        "print(\"✓ Done\")"
      ]
    },
    {
      "cell_type": "code",
      "execution_count": 14,
      "metadata": {
        "colab": {
          "base_uri": "https://localhost:8080/"
        },
        "id": "ZhxGkGThyTMQ",
        "outputId": "9d593edc-6075-4c36-aaa4-ebe8bb5b9bce"
      },
      "outputs": [
        {
          "output_type": "stream",
          "name": "stdout",
          "text": [
            "Step 2: Removing punctuation...\n",
            "✓ Done\n"
          ]
        }
      ],
      "source": [
        "# STEP 2: Remove punctuation\n",
        "print(\"Step 2: Removing punctuation...\")\n",
        "data['review'] = data['review'].apply(lambda x: re.sub(r'[,\\.!?:()\"\\']', '', x)) # Fixed: Escaped special characters\n",
        "data['review'] = data['review'].apply(lambda x: re.sub(r'[^a-zA-Z\\s]', ' ', x))\n",
        "print(\"✓ Done\")"
      ]
    },
    {
      "cell_type": "code",
      "execution_count": 15,
      "metadata": {
        "colab": {
          "base_uri": "https://localhost:8080/"
        },
        "id": "Qxr64sJcyTMQ",
        "outputId": "aa2bfac7-5045-4a82-888f-feed33b600a3"
      },
      "outputs": [
        {
          "output_type": "stream",
          "name": "stdout",
          "text": [
            "Step 3: Converting to lowercase...\n",
            "✓ Done\n"
          ]
        }
      ],
      "source": [
        "# STEP 3: Convert to lowercase\n",
        "print(\"Step 3: Converting to lowercase...\")\n",
        "data['review'] = data['review'].apply(lambda x: x.lower())\n",
        "print(\"✓ Done\")"
      ]
    },
    {
      "cell_type": "code",
      "execution_count": 16,
      "metadata": {
        "colab": {
          "base_uri": "https://localhost:8080/"
        },
        "id": "0UrItIgJyTMQ",
        "outputId": "23f6d563-ebef-435f-8370-f0ea9768ffb8"
      },
      "outputs": [
        {
          "output_type": "stream",
          "name": "stdout",
          "text": [
            "Step 4: Stripping whitespace...\n",
            "✓ Done\n"
          ]
        }
      ],
      "source": [
        "# STEP 4: Strip whitespace\n",
        "print(\"Step 4: Stripping whitespace...\")\n",
        "data['review'] = data['review'].apply(lambda x: x.strip())\n",
        "data['review'] = data['review'].apply(lambda x: re.sub(r'\\s+', ' ', x))\n",
        "print(\"✓ Done\")"
      ]
    },
    {
      "cell_type": "code",
      "execution_count": 17,
      "metadata": {
        "colab": {
          "base_uri": "https://localhost:8080/"
        },
        "id": "XtIlMIsRyTMQ",
        "outputId": "7cc33a86-7321-4b0d-956a-dcc58cb03022"
      },
      "outputs": [
        {
          "output_type": "stream",
          "name": "stdout",
          "text": [
            "Step 5: Removing stopwords...\n",
            "✓ Done\n"
          ]
        }
      ],
      "source": [
        "# STEP 5: Remove stopwords (DO THIS AFTER CLEANING!)\n",
        "print(\"Step 5: Removing stopwords...\")\n",
        "data['review'] = data['review'].apply(remove_stopwords)\n",
        "print(\"✓ Done\")"
      ]
    },
    {
      "cell_type": "code",
      "execution_count": 18,
      "metadata": {
        "colab": {
          "base_uri": "https://localhost:8080/"
        },
        "id": "Rk-p8uUeyTMQ",
        "outputId": "ab617e61-f953-4508-c973-6de635aec85e"
      },
      "outputs": [
        {
          "metadata": {
            "tags": null
          },
          "name": "stdout",
          "output_type": "stream",
          "text": [
            "\n",
            "Sample text AFTER preprocessing:\n",
            "======================================================================\n",
            "one reviewers mentioned watching oz episode youll hooked right exactly happened methe first thing struck oz brutality unflinching scenes violence set right word go trust show faint hearted timid show pulls punches regards drugs sex violence hardcore classic use wordit called oz nickname given oswald\n",
            "======================================================================\n",
            "\n",
            "✓ Preprocessing complete!\n"
          ]
        }
      ],
      "source": [
        "# Show sample text AFTER preprocessing\n",
        "print(\"\\nSample text AFTER preprocessing:\")\n",
        "print(\"=\"*70)\n",
        "print(data['review'].iloc[0][:300])\n",
        "print(\"=\"*70)\n",
        "\n",
        "print(\"\\n✓ Preprocessing complete!\")"
      ]
    },
    {
      "cell_type": "markdown",
      "metadata": {
        "id": "7v_QxUMCyTMQ"
      },
      "source": [
        "## 4. Train-Test Split"
      ]
    },
    {
      "cell_type": "code",
      "execution_count": 19,
      "metadata": {
        "colab": {
          "base_uri": "https://localhost:8080/"
        },
        "id": "pBUVpq7yyTMR",
        "outputId": "bf1985c5-5e69-4d01-9e1c-e4d727449eb0"
      },
      "outputs": [
        {
          "metadata": {
            "tags": null
          },
          "name": "stdout",
          "output_type": "stream",
          "text": [
            "Training samples: 40000\n",
            "Testing samples: 10000\n",
            "\n",
            "Train positive ratio: 50.00%\n",
            "Test positive ratio: 50.00%\n"
          ]
        }
      ],
      "source": [
        "# Prepare data\n",
        "X = data['review'].values\n",
        "y = data['sentiment'].values\n",
        "\n",
        "# Split data\n",
        "x_train, x_test, y_train, y_test = train_test_split(\n",
        "    X, y, test_size=0.2, random_state=42, stratify=y\n",
        ")\n",
        "\n",
        "print(f\"Training samples: {len(x_train)}\")\n",
        "print(f\"Testing samples: {len(x_test)}\")\n",
        "print(f\"\\nTrain positive ratio: {y_train.mean():.2%}\")\n",
        "print(f\"Test positive ratio: {y_test.mean():.2%}\")"
      ]
    },
    {
      "cell_type": "markdown",
      "metadata": {
        "id": "zsbfUucgyTMR"
      },
      "source": [
        "## 5. Tokenization and Sequence Preparation\n",
        "\n",
        "### ⚠️ CRITICAL FIX:\n",
        "**Tokenizer is fitted ONLY on training data to prevent data leakage!**"
      ]
    },
    {
      "cell_type": "code",
      "execution_count": 20,
      "metadata": {
        "colab": {
          "base_uri": "https://localhost:8080/"
        },
        "id": "hay82mM0yTMR",
        "outputId": "5ab13132-b964-4979-e218-d4f282aec1ac"
      },
      "outputs": [
        {
          "output_type": "stream",
          "name": "stdout",
          "text": [
            "✓ Tokenizer fitted on training data only\n",
            "Vocabulary size: 159023\n"
          ]
        }
      ],
      "source": [
        "# Initialize tokenizer\n",
        "tokenizer = Tokenizer(num_words=15000, oov_token='<OOV>')\n",
        "\n",
        "# ✅ CRITICAL FIX: Fit ONLY on training data!\n",
        "# WRONG: tokenizer.fit_on_texts(data)  ❌ (includes test data)\n",
        "# CORRECT: tokenizer.fit_on_texts(x_train)  ✅ (only training data)\n",
        "\n",
        "tokenizer.fit_on_texts(x_train)\n",
        "\n",
        "print(f\"✓ Tokenizer fitted on training data only\")\n",
        "print(f\"Vocabulary size: {len(tokenizer.word_index)}\")"
      ]
    },
    {
      "cell_type": "code",
      "execution_count": 21,
      "metadata": {
        "colab": {
          "base_uri": "https://localhost:8080/"
        },
        "id": "9HlaGeuVyTMR",
        "outputId": "7e75a090-1b88-46f2-f688-518b728c7cc3"
      },
      "outputs": [
        {
          "output_type": "stream",
          "name": "stdout",
          "text": [
            "Training sequences: 40000\n",
            "Testing sequences: 10000\n"
          ]
        }
      ],
      "source": [
        "# Convert texts to sequences\n",
        "x_train_tokens = tokenizer.texts_to_sequences(x_train)\n",
        "x_test_tokens = tokenizer.texts_to_sequences(x_test)\n",
        "\n",
        "print(f\"Training sequences: {len(x_train_tokens)}\")\n",
        "print(f\"Testing sequences: {len(x_test_tokens)}\")"
      ]
    },
    {
      "cell_type": "code",
      "execution_count": 22,
      "metadata": {
        "colab": {
          "base_uri": "https://localhost:8080/"
        },
        "id": "4eSYePQkyTMS",
        "outputId": "4733a2c1-a56d-43a3-e2a8-2e702ff59fb2"
      },
      "outputs": [
        {
          "output_type": "stream",
          "name": "stdout",
          "text": [
            "Max tokens: 301\n",
            "Mean tokens: 120.1\n",
            "Std tokens: 90.6\n",
            "Coverage: 94.54%\n"
          ]
        }
      ],
      "source": [
        "# Calculate max_tokens\n",
        "num_tokens = [len(tokens) for tokens in x_train_tokens + x_test_tokens]\n",
        "num_tokens = np.array(num_tokens)\n",
        "max_tokens = int(np.mean(num_tokens) + 2 * np.std(num_tokens))\n",
        "\n",
        "print(f\"Max tokens: {max_tokens}\")\n",
        "print(f\"Mean tokens: {np.mean(num_tokens):.1f}\")\n",
        "print(f\"Std tokens: {np.std(num_tokens):.1f}\")\n",
        "print(f\"Coverage: {np.sum(num_tokens < max_tokens) / len(num_tokens):.2%}\")"
      ]
    },
    {
      "cell_type": "code",
      "execution_count": 23,
      "metadata": {
        "colab": {
          "base_uri": "https://localhost:8080/"
        },
        "id": "t6SvQdDbyTMS",
        "outputId": "c1567c99-bd1b-46d2-deee-d020852c9128"
      },
      "outputs": [
        {
          "output_type": "stream",
          "name": "stdout",
          "text": [
            "Training data shape: (40000, 301)\n",
            "Testing data shape: (10000, 301)\n"
          ]
        }
      ],
      "source": [
        "# Pad sequences\n",
        "x_train_pad = pad_sequences(x_train_tokens, maxlen=max_tokens, padding='post', truncating='post')\n",
        "x_test_pad = pad_sequences(x_test_tokens, maxlen=max_tokens, padding='post', truncating='post')\n",
        "\n",
        "print(f\"Training data shape: {x_train_pad.shape}\")\n",
        "print(f\"Testing data shape: {x_test_pad.shape}\")"
      ]
    },
    {
      "cell_type": "code",
      "execution_count": 24,
      "metadata": {
        "colab": {
          "base_uri": "https://localhost:8080/"
        },
        "id": "5jy0YN3lyTMT",
        "outputId": "8de68f33-ab04-4440-8ec0-f65478f84d3d"
      },
      "outputs": [
        {
          "output_type": "stream",
          "name": "stdout",
          "text": [
            "Sample tokenized sentence (converted back):\n",
            "darling lili fantastic far one favorite films certainly didnt deserve poor reviews received julie andrews playing title role lili smith <OOV> best part whole movie <OOV> spectacular julie andrews favorite actress singer far <OOV> surprised stunning movie <OOV> im running <OOV> magnificent marvellous amazing funny terribly romantic sad thrill thanks dame julie <OOV> husband director blake edwards oh yeah rock hudson ok julie andrews beautiful well loved singer lili smith rock hudson portrays major <OOV> quickly falls lili affair <OOV> meeting planned german government im sure thats exactly youd call get point warm happy singing entertainer lili actually german spy lili told seduce major <OOV> order get information new top secret <OOV> later know <OOV> <OOV> though lili <OOV> mission falls love bill major <OOV> real making original quest challenging lili pulls <OOV> er task finds something really true bill ending remain <OOV> wonderfully <OOV> anything youll thoroughly enjoy movie certainly\n",
            "\n",
            "Tokens: [7897 8540  692  122    4  409   25  307   61 1622  231  709 1836 2019\n",
            " 3085  276  323  120 8540 1313]...\n"
          ]
        }
      ],
      "source": [
        "# Function to convert tokens back to text (for verification)\n",
        "idx = tokenizer.word_index\n",
        "inverse_map = dict(zip(idx.values(), idx.keys()))\n",
        "\n",
        "def return_to_sentence(tokens):\n",
        "    words = [inverse_map.get(token, '') for token in tokens if token != 0]\n",
        "    return ' '.join(words)\n",
        "\n",
        "# Test it\n",
        "print(\"Sample tokenized sentence (converted back):\")\n",
        "print(return_to_sentence(x_train_pad[9]))\n",
        "print(f\"\\nTokens: {x_train_pad[9][:20]}...\")"
      ]
    },
    {
      "cell_type": "markdown",
      "metadata": {
        "id": "OYLcFIyQyTMU"
      },
      "source": [
        "## 6. Build LSTM Model"
      ]
    },
    {
      "cell_type": "code",
      "execution_count": 25,
      "metadata": {
        "colab": {
          "base_uri": "https://localhost:8080/",
          "height": 443
        },
        "id": "49F7SBNcyTMU",
        "outputId": "0932682a-ff9a-4ad5-a405-ddc372e4a492"
      },
      "outputs": [
        {
          "output_type": "stream",
          "name": "stdout",
          "text": [
            "✓ Model built successfully\n",
            "\n"
          ]
        },
        {
          "output_type": "display_data",
          "data": {
            "text/plain": [
              "\u001b[1mModel: \"sequential\"\u001b[0m\n"
            ],
            "text/html": [
              "<pre style=\"white-space:pre;overflow-x:auto;line-height:normal;font-family:Menlo,'DejaVu Sans Mono',consolas,'Courier New',monospace\"><span style=\"font-weight: bold\">Model: \"sequential\"</span>\n",
              "</pre>\n"
            ]
          },
          "metadata": {}
        },
        {
          "output_type": "display_data",
          "data": {
            "text/plain": [
              "┏━━━━━━━━━━━━━━━━━━━━━━━━━━━━━━━━━┳━━━━━━━━━━━━━━━━━━━━━━━━┳━━━━━━━━━━━━━━━┓\n",
              "┃\u001b[1m \u001b[0m\u001b[1mLayer (type)                   \u001b[0m\u001b[1m \u001b[0m┃\u001b[1m \u001b[0m\u001b[1mOutput Shape          \u001b[0m\u001b[1m \u001b[0m┃\u001b[1m \u001b[0m\u001b[1m      Param #\u001b[0m\u001b[1m \u001b[0m┃\n",
              "┡━━━━━━━━━━━━━━━━━━━━━━━━━━━━━━━━━╇━━━━━━━━━━━━━━━━━━━━━━━━╇━━━━━━━━━━━━━━━┩\n",
              "│ embedding_layer (\u001b[38;5;33mEmbedding\u001b[0m)     │ ?                      │   \u001b[38;5;34m0\u001b[0m (unbuilt) │\n",
              "├─────────────────────────────────┼────────────────────────┼───────────────┤\n",
              "│ lstm (\u001b[38;5;33mLSTM\u001b[0m)                     │ ?                      │   \u001b[38;5;34m0\u001b[0m (unbuilt) │\n",
              "├─────────────────────────────────┼────────────────────────┼───────────────┤\n",
              "│ dropout (\u001b[38;5;33mDropout\u001b[0m)               │ ?                      │             \u001b[38;5;34m0\u001b[0m │\n",
              "├─────────────────────────────────┼────────────────────────┼───────────────┤\n",
              "│ lstm_1 (\u001b[38;5;33mLSTM\u001b[0m)                   │ ?                      │   \u001b[38;5;34m0\u001b[0m (unbuilt) │\n",
              "├─────────────────────────────────┼────────────────────────┼───────────────┤\n",
              "│ dropout_1 (\u001b[38;5;33mDropout\u001b[0m)             │ ?                      │             \u001b[38;5;34m0\u001b[0m │\n",
              "├─────────────────────────────────┼────────────────────────┼───────────────┤\n",
              "│ lstm_2 (\u001b[38;5;33mLSTM\u001b[0m)                   │ ?                      │   \u001b[38;5;34m0\u001b[0m (unbuilt) │\n",
              "├─────────────────────────────────┼────────────────────────┼───────────────┤\n",
              "│ dropout_2 (\u001b[38;5;33mDropout\u001b[0m)             │ ?                      │             \u001b[38;5;34m0\u001b[0m │\n",
              "├─────────────────────────────────┼────────────────────────┼───────────────┤\n",
              "│ dense (\u001b[38;5;33mDense\u001b[0m)                   │ ?                      │   \u001b[38;5;34m0\u001b[0m (unbuilt) │\n",
              "└─────────────────────────────────┴────────────────────────┴───────────────┘\n"
            ],
            "text/html": [
              "<pre style=\"white-space:pre;overflow-x:auto;line-height:normal;font-family:Menlo,'DejaVu Sans Mono',consolas,'Courier New',monospace\">┏━━━━━━━━━━━━━━━━━━━━━━━━━━━━━━━━━┳━━━━━━━━━━━━━━━━━━━━━━━━┳━━━━━━━━━━━━━━━┓\n",
              "┃<span style=\"font-weight: bold\"> Layer (type)                    </span>┃<span style=\"font-weight: bold\"> Output Shape           </span>┃<span style=\"font-weight: bold\">       Param # </span>┃\n",
              "┡━━━━━━━━━━━━━━━━━━━━━━━━━━━━━━━━━╇━━━━━━━━━━━━━━━━━━━━━━━━╇━━━━━━━━━━━━━━━┩\n",
              "│ embedding_layer (<span style=\"color: #0087ff; text-decoration-color: #0087ff\">Embedding</span>)     │ ?                      │   <span style=\"color: #00af00; text-decoration-color: #00af00\">0</span> (unbuilt) │\n",
              "├─────────────────────────────────┼────────────────────────┼───────────────┤\n",
              "│ lstm (<span style=\"color: #0087ff; text-decoration-color: #0087ff\">LSTM</span>)                     │ ?                      │   <span style=\"color: #00af00; text-decoration-color: #00af00\">0</span> (unbuilt) │\n",
              "├─────────────────────────────────┼────────────────────────┼───────────────┤\n",
              "│ dropout (<span style=\"color: #0087ff; text-decoration-color: #0087ff\">Dropout</span>)               │ ?                      │             <span style=\"color: #00af00; text-decoration-color: #00af00\">0</span> │\n",
              "├─────────────────────────────────┼────────────────────────┼───────────────┤\n",
              "│ lstm_1 (<span style=\"color: #0087ff; text-decoration-color: #0087ff\">LSTM</span>)                   │ ?                      │   <span style=\"color: #00af00; text-decoration-color: #00af00\">0</span> (unbuilt) │\n",
              "├─────────────────────────────────┼────────────────────────┼───────────────┤\n",
              "│ dropout_1 (<span style=\"color: #0087ff; text-decoration-color: #0087ff\">Dropout</span>)             │ ?                      │             <span style=\"color: #00af00; text-decoration-color: #00af00\">0</span> │\n",
              "├─────────────────────────────────┼────────────────────────┼───────────────┤\n",
              "│ lstm_2 (<span style=\"color: #0087ff; text-decoration-color: #0087ff\">LSTM</span>)                   │ ?                      │   <span style=\"color: #00af00; text-decoration-color: #00af00\">0</span> (unbuilt) │\n",
              "├─────────────────────────────────┼────────────────────────┼───────────────┤\n",
              "│ dropout_2 (<span style=\"color: #0087ff; text-decoration-color: #0087ff\">Dropout</span>)             │ ?                      │             <span style=\"color: #00af00; text-decoration-color: #00af00\">0</span> │\n",
              "├─────────────────────────────────┼────────────────────────┼───────────────┤\n",
              "│ dense (<span style=\"color: #0087ff; text-decoration-color: #0087ff\">Dense</span>)                   │ ?                      │   <span style=\"color: #00af00; text-decoration-color: #00af00\">0</span> (unbuilt) │\n",
              "└─────────────────────────────────┴────────────────────────┴───────────────┘\n",
              "</pre>\n"
            ]
          },
          "metadata": {}
        },
        {
          "output_type": "display_data",
          "data": {
            "text/plain": [
              "\u001b[1m Total params: \u001b[0m\u001b[38;5;34m0\u001b[0m (0.00 B)\n"
            ],
            "text/html": [
              "<pre style=\"white-space:pre;overflow-x:auto;line-height:normal;font-family:Menlo,'DejaVu Sans Mono',consolas,'Courier New',monospace\"><span style=\"font-weight: bold\"> Total params: </span><span style=\"color: #00af00; text-decoration-color: #00af00\">0</span> (0.00 B)\n",
              "</pre>\n"
            ]
          },
          "metadata": {}
        },
        {
          "output_type": "display_data",
          "data": {
            "text/plain": [
              "\u001b[1m Trainable params: \u001b[0m\u001b[38;5;34m0\u001b[0m (0.00 B)\n"
            ],
            "text/html": [
              "<pre style=\"white-space:pre;overflow-x:auto;line-height:normal;font-family:Menlo,'DejaVu Sans Mono',consolas,'Courier New',monospace\"><span style=\"font-weight: bold\"> Trainable params: </span><span style=\"color: #00af00; text-decoration-color: #00af00\">0</span> (0.00 B)\n",
              "</pre>\n"
            ]
          },
          "metadata": {}
        },
        {
          "output_type": "display_data",
          "data": {
            "text/plain": [
              "\u001b[1m Non-trainable params: \u001b[0m\u001b[38;5;34m0\u001b[0m (0.00 B)\n"
            ],
            "text/html": [
              "<pre style=\"white-space:pre;overflow-x:auto;line-height:normal;font-family:Menlo,'DejaVu Sans Mono',consolas,'Courier New',monospace\"><span style=\"font-weight: bold\"> Non-trainable params: </span><span style=\"color: #00af00; text-decoration-color: #00af00\">0</span> (0.00 B)\n",
              "</pre>\n"
            ]
          },
          "metadata": {}
        }
      ],
      "source": [
        "# Model parameters\n",
        "embedding_size = 50\n",
        "\n",
        "# Build model\n",
        "model = Sequential([\n",
        "    Embedding(input_dim=15000, output_dim=embedding_size,\n",
        "             input_length=max_tokens, name='embedding_layer'),\n",
        "    LSTM(units=32, return_sequences=True),\n",
        "    Dropout(0.1),\n",
        "    LSTM(units=8, return_sequences=True),\n",
        "    Dropout(0.2),\n",
        "    LSTM(units=16),\n",
        "    Dropout(0.1),\n",
        "    Dense(1, activation='sigmoid')\n",
        "])\n",
        "\n",
        "# Compile model\n",
        "optimizer = Adam(learning_rate=1e-3)\n",
        "model.compile(loss='binary_crossentropy', optimizer=optimizer, metrics=['accuracy'])\n",
        "\n",
        "print(\"✓ Model built successfully\\n\")\n",
        "model.summary()"
      ]
    },
    {
      "cell_type": "markdown",
      "metadata": {
        "id": "YSKI-idgyTMU"
      },
      "source": [
        "## 7. Train Model\n",
        "\n",
        "### ✅ Fixed: Added batch_size=1000"
      ]
    },
    {
      "cell_type": "code",
      "execution_count": 26,
      "metadata": {
        "colab": {
          "base_uri": "https://localhost:8080/"
        },
        "id": "JbMD4PhOyTMU",
        "outputId": "e153c0fb-c72f-4166-f2cf-c27cff7c66b3"
      },
      "outputs": [
        {
          "output_type": "stream",
          "name": "stdout",
          "text": [
            "Training model...\n",
            "\n",
            "Epoch 1/20\n",
            "\u001b[1m28/28\u001b[0m \u001b[32m━━━━━━━━━━━━━━━━━━━━\u001b[0m\u001b[37m\u001b[0m \u001b[1m10s\u001b[0m 98ms/step - accuracy: 0.5006 - loss: 0.6932 - val_accuracy: 0.5002 - val_loss: 0.6932\n",
            "Epoch 2/20\n",
            "\u001b[1m28/28\u001b[0m \u001b[32m━━━━━━━━━━━━━━━━━━━━\u001b[0m\u001b[37m\u001b[0m \u001b[1m2s\u001b[0m 74ms/step - accuracy: 0.5007 - loss: 0.6930 - val_accuracy: 0.5050 - val_loss: 0.6930\n",
            "Epoch 3/20\n",
            "\u001b[1m28/28\u001b[0m \u001b[32m━━━━━━━━━━━━━━━━━━━━\u001b[0m\u001b[37m\u001b[0m \u001b[1m2s\u001b[0m 73ms/step - accuracy: 0.5077 - loss: 0.6925 - val_accuracy: 0.5062 - val_loss: 0.6922\n",
            "Epoch 4/20\n",
            "\u001b[1m28/28\u001b[0m \u001b[32m━━━━━━━━━━━━━━━━━━━━\u001b[0m\u001b[37m\u001b[0m \u001b[1m2s\u001b[0m 73ms/step - accuracy: 0.5074 - loss: 0.6880 - val_accuracy: 0.5137 - val_loss: 0.6915\n",
            "Epoch 5/20\n",
            "\u001b[1m28/28\u001b[0m \u001b[32m━━━━━━━━━━━━━━━━━━━━\u001b[0m\u001b[37m\u001b[0m \u001b[1m2s\u001b[0m 73ms/step - accuracy: 0.5218 - loss: 0.6813 - val_accuracy: 0.5220 - val_loss: 0.6880\n",
            "Epoch 6/20\n",
            "\u001b[1m28/28\u001b[0m \u001b[32m━━━━━━━━━━━━━━━━━━━━\u001b[0m\u001b[37m\u001b[0m \u001b[1m2s\u001b[0m 73ms/step - accuracy: 0.5452 - loss: 0.6680 - val_accuracy: 0.5196 - val_loss: 0.6954\n",
            "Epoch 7/20\n",
            "\u001b[1m28/28\u001b[0m \u001b[32m━━━━━━━━━━━━━━━━━━━━\u001b[0m\u001b[37m\u001b[0m \u001b[1m2s\u001b[0m 76ms/step - accuracy: 0.5409 - loss: 0.6675 - val_accuracy: 0.5230 - val_loss: 0.6962\n",
            "Epoch 8/20\n",
            "\u001b[1m28/28\u001b[0m \u001b[32m━━━━━━━━━━━━━━━━━━━━\u001b[0m\u001b[37m\u001b[0m \u001b[1m2s\u001b[0m 74ms/step - accuracy: 0.5470 - loss: 0.6636 - val_accuracy: 0.5283 - val_loss: 0.6998\n",
            "Epoch 9/20\n",
            "\u001b[1m28/28\u001b[0m \u001b[32m━━━━━━━━━━━━━━━━━━━━\u001b[0m\u001b[37m\u001b[0m \u001b[1m2s\u001b[0m 73ms/step - accuracy: 0.5472 - loss: 0.6569 - val_accuracy: 0.5333 - val_loss: 0.6896\n",
            "Epoch 10/20\n",
            "\u001b[1m28/28\u001b[0m \u001b[32m━━━━━━━━━━━━━━━━━━━━\u001b[0m\u001b[37m\u001b[0m \u001b[1m2s\u001b[0m 72ms/step - accuracy: 0.5667 - loss: 0.6521 - val_accuracy: 0.7591 - val_loss: 0.6273\n",
            "Epoch 11/20\n",
            "\u001b[1m28/28\u001b[0m \u001b[32m━━━━━━━━━━━━━━━━━━━━\u001b[0m\u001b[37m\u001b[0m \u001b[1m2s\u001b[0m 73ms/step - accuracy: 0.7574 - loss: 0.5639 - val_accuracy: 0.4998 - val_loss: 0.7379\n",
            "Epoch 12/20\n",
            "\u001b[1m28/28\u001b[0m \u001b[32m━━━━━━━━━━━━━━━━━━━━\u001b[0m\u001b[37m\u001b[0m \u001b[1m2s\u001b[0m 74ms/step - accuracy: 0.5009 - loss: 0.7238 - val_accuracy: 0.4997 - val_loss: 0.7034\n",
            "Epoch 13/20\n",
            "\u001b[1m28/28\u001b[0m \u001b[32m━━━━━━━━━━━━━━━━━━━━\u001b[0m\u001b[37m\u001b[0m \u001b[1m2s\u001b[0m 75ms/step - accuracy: 0.5065 - loss: 0.6996 - val_accuracy: 0.4997 - val_loss: 0.6955\n",
            "Epoch 14/20\n",
            "\u001b[1m28/28\u001b[0m \u001b[32m━━━━━━━━━━━━━━━━━━━━\u001b[0m\u001b[37m\u001b[0m \u001b[1m2s\u001b[0m 75ms/step - accuracy: 0.4997 - loss: 0.6951 - val_accuracy: 0.4997 - val_loss: 0.6944\n",
            "Epoch 15/20\n",
            "\u001b[1m28/28\u001b[0m \u001b[32m━━━━━━━━━━━━━━━━━━━━\u001b[0m\u001b[37m\u001b[0m \u001b[1m2s\u001b[0m 73ms/step - accuracy: 0.4997 - loss: 0.6939 - val_accuracy: 0.4997 - val_loss: 0.6942\n",
            "Epoch 16/20\n",
            "\u001b[1m28/28\u001b[0m \u001b[32m━━━━━━━━━━━━━━━━━━━━\u001b[0m\u001b[37m\u001b[0m \u001b[1m2s\u001b[0m 73ms/step - accuracy: 0.5054 - loss: 0.6934 - val_accuracy: 0.4998 - val_loss: 0.6941\n",
            "Epoch 17/20\n",
            "\u001b[1m28/28\u001b[0m \u001b[32m━━━━━━━━━━━━━━━━━━━━\u001b[0m\u001b[37m\u001b[0m \u001b[1m2s\u001b[0m 73ms/step - accuracy: 0.5010 - loss: 0.6932 - val_accuracy: 0.5006 - val_loss: 0.6937\n",
            "Epoch 18/20\n",
            "\u001b[1m28/28\u001b[0m \u001b[32m━━━━━━━━━━━━━━━━━━━━\u001b[0m\u001b[37m\u001b[0m \u001b[1m2s\u001b[0m 73ms/step - accuracy: 0.4959 - loss: 0.6918 - val_accuracy: 0.5019 - val_loss: 0.6929\n",
            "Epoch 19/20\n",
            "\u001b[1m28/28\u001b[0m \u001b[32m━━━━━━━━━━━━━━━━━━━━\u001b[0m\u001b[37m\u001b[0m \u001b[1m2s\u001b[0m 76ms/step - accuracy: 0.5120 - loss: 0.6877 - val_accuracy: 0.5197 - val_loss: 0.6854\n",
            "Epoch 20/20\n",
            "\u001b[1m28/28\u001b[0m \u001b[32m━━━━━━━━━━━━━━━━━━━━\u001b[0m\u001b[37m\u001b[0m \u001b[1m2s\u001b[0m 77ms/step - accuracy: 0.5495 - loss: 0.6674 - val_accuracy: 0.5437 - val_loss: 0.6900\n",
            "\n",
            "✓ Training complete!\n"
          ]
        }
      ],
      "source": [
        "print(\"Training model...\\n\")\n",
        "\n",
        "history = model.fit(\n",
        "    x_train_pad, y_train,\n",
        "    validation_split=0.3,\n",
        "    epochs=20,\n",
        "    batch_size=1000,  # ✅ Added batch_size\n",
        "    shuffle=True,\n",
        "    verbose=1\n",
        ")\n",
        "\n",
        "print(\"\\n✓ Training complete!\")"
      ]
    },
    {
      "cell_type": "markdown",
      "metadata": {
        "id": "1_3tBTm2yTMV"
      },
      "source": [
        "## 8. Evaluate Model & Generate Confusion Matrix"
      ]
    },
    {
      "cell_type": "code",
      "execution_count": 27,
      "metadata": {
        "id": "yc1VZ2G1yTMV",
        "colab": {
          "base_uri": "https://localhost:8080/"
        },
        "outputId": "1f3c95ed-e140-4d02-abdc-644e27f1e7ed"
      },
      "outputs": [
        {
          "output_type": "stream",
          "name": "stdout",
          "text": [
            "Evaluating on test set...\n",
            "\n",
            "\u001b[1m313/313\u001b[0m \u001b[32m━━━━━━━━━━━━━━━━━━━━\u001b[0m\u001b[37m\u001b[0m \u001b[1m4s\u001b[0m 12ms/step - accuracy: 0.5470 - loss: 0.6842\n",
            "\n",
            "============================================================\n",
            "Test Loss: 0.6859\n",
            "Test Accuracy: 0.5467\n",
            "============================================================\n"
          ]
        }
      ],
      "source": [
        "# Evaluate on test set\n",
        "print(\"Evaluating on test set...\\n\")\n",
        "test_loss, test_accuracy = model.evaluate(x_test_pad, y_test, verbose=1)\n",
        "\n",
        "print(f\"\\n{'='*60}\")\n",
        "print(f\"Test Loss: {test_loss:.4f}\")\n",
        "print(f\"Test Accuracy: {test_accuracy:.4f}\")\n",
        "print(f\"{'='*60}\")"
      ]
    },
    {
      "cell_type": "code",
      "execution_count": 28,
      "metadata": {
        "id": "tKkxl2B5yTMV",
        "colab": {
          "base_uri": "https://localhost:8080/"
        },
        "outputId": "c7b78774-d8b5-465d-e7f7-e01b767a75de"
      },
      "outputs": [
        {
          "output_type": "stream",
          "name": "stdout",
          "text": [
            "Predictions generated: 10000\n",
            "Positive predictions: 887\n",
            "Negative predictions: 9113\n"
          ]
        }
      ],
      "source": [
        "# Generate predictions\n",
        "y_pred_probs = model.predict(x_test_pad, verbose=0)\n",
        "y_pred = (y_pred_probs >= 0.5).astype(int).flatten()\n",
        "\n",
        "print(f\"Predictions generated: {len(y_pred)}\")\n",
        "print(f\"Positive predictions: {y_pred.sum()}\")\n",
        "print(f\"Negative predictions: {len(y_pred) - y_pred.sum()}\")"
      ]
    },
    {
      "cell_type": "code",
      "execution_count": 29,
      "metadata": {
        "id": "ZJCPJliWyTMW",
        "colab": {
          "base_uri": "https://localhost:8080/"
        },
        "outputId": "a6a11f14-7714-408c-c63f-94ec1da7b8f8"
      },
      "outputs": [
        {
          "output_type": "stream",
          "name": "stdout",
          "text": [
            "\n",
            "Confusion Matrix:\n",
            "[[4790  210]\n",
            " [4323  677]]\n",
            "\n",
            "[TN  FP]\n",
            "[FN  TP]\n"
          ]
        }
      ],
      "source": [
        "# Confusion Matrix\n",
        "cm = confusion_matrix(y_test, y_pred)\n",
        "\n",
        "print(\"\\nConfusion Matrix:\")\n",
        "print(cm)\n",
        "print(\"\\n[TN  FP]\")\n",
        "print(\"[FN  TP]\")"
      ]
    },
    {
      "cell_type": "code",
      "execution_count": 30,
      "metadata": {
        "id": "U-1I1SL9yTMW",
        "colab": {
          "base_uri": "https://localhost:8080/"
        },
        "outputId": "5d39acf3-074a-46aa-9c76-1bcfe3376a21"
      },
      "outputs": [
        {
          "output_type": "stream",
          "name": "stdout",
          "text": [
            "\n",
            "Classification Report:\n",
            "============================================================\n",
            "              precision    recall  f1-score   support\n",
            "\n",
            "    Negative       0.53      0.96      0.68      5000\n",
            "    Positive       0.76      0.14      0.23      5000\n",
            "\n",
            "    accuracy                           0.55     10000\n",
            "   macro avg       0.64      0.55      0.45     10000\n",
            "weighted avg       0.64      0.55      0.45     10000\n",
            "\n"
          ]
        }
      ],
      "source": [
        "# Classification Report\n",
        "print(\"\\nClassification Report:\")\n",
        "print(\"=\"*60)\n",
        "print(classification_report(y_test, y_pred, target_names=['Negative', 'Positive']))"
      ]
    },
    {
      "cell_type": "code",
      "execution_count": 31,
      "metadata": {
        "id": "1Q_k2mgnyTMb",
        "colab": {
          "base_uri": "https://localhost:8080/"
        },
        "outputId": "408c1b00-66f2-423e-a76f-4bc10997d8e2"
      },
      "outputs": [
        {
          "output_type": "stream",
          "name": "stdout",
          "text": [
            "\n",
            "Detailed Metrics:\n",
            "============================================================\n",
            "True Negatives:  4790\n",
            "False Positives: 210\n",
            "False Negatives: 4323\n",
            "True Positives:  677\n",
            "\n",
            "Accuracy:  0.5467\n",
            "Precision: 0.7632\n",
            "Recall:    0.1354\n",
            "F1-Score:  0.2300\n",
            "============================================================\n"
          ]
        }
      ],
      "source": [
        "# Detailed Metrics\n",
        "tn, fp, fn, tp = cm.ravel()\n",
        "\n",
        "accuracy = (tp + tn) / (tp + tn + fp + fn)\n",
        "precision = tp / (tp + fp) if (tp + fp) > 0 else 0\n",
        "recall = tp / (tp + fn) if (tp + fn) > 0 else 0\n",
        "f1 = 2 * tp / (2 * tp + fp + fn) if (2 * tp + fp + fn) > 0 else 0\n",
        "\n",
        "print(\"\\nDetailed Metrics:\")\n",
        "print(\"=\"*60)\n",
        "print(f\"True Negatives:  {tn}\")\n",
        "print(f\"False Positives: {fp}\")\n",
        "print(f\"False Negatives: {fn}\")\n",
        "print(f\"True Positives:  {tp}\")\n",
        "print(f\"\\nAccuracy:  {accuracy:.4f}\")\n",
        "print(f\"Precision: {precision:.4f}\")\n",
        "print(f\"Recall:    {recall:.4f}\")\n",
        "print(f\"F1-Score:  {f1:.4f}\")\n",
        "print(\"=\"*60)"
      ]
    },
    {
      "cell_type": "markdown",
      "metadata": {
        "id": "IGfidIW_yTMb"
      },
      "source": [
        "## 9. Visualizations"
      ]
    },
    {
      "cell_type": "code",
      "execution_count": 32,
      "metadata": {
        "id": "2Z59-ZAjyTMc",
        "colab": {
          "base_uri": "https://localhost:8080/",
          "height": 668
        },
        "outputId": "2fef08ec-e696-4f7d-bb0d-b7928d93c0f5"
      },
      "outputs": [
        {
          "output_type": "stream",
          "name": "stdout",
          "text": [
            "✓ Evaluation plot saved: results/training_evaluation.png\n"
          ]
        },
        {
          "output_type": "display_data",
          "data": {
            "text/plain": [
              "<Figure size 1600x1200 with 5 Axes>"
            ],
            "image/png": "[encoded data removed]"
          },
          "metadata": {}
        }
      ],
      "source": [
        "# Create comprehensive visualization\n",
        "fig, axes = plt.subplots(2, 2, figsize=(16, 12))\n",
        "\n",
        "# 1. Confusion Matrix\n",
        "sns.heatmap(cm, annot=True, fmt='d', cmap='Blues', ax=axes[0, 0],\n",
        "            xticklabels=['Negative', 'Positive'],\n",
        "            yticklabels=['Negative', 'Positive'],\n",
        "            linewidths=2, linecolor='white',\n",
        "            annot_kws={'size': 16, 'weight': 'bold'})\n",
        "axes[0, 0].set_title('Confusion Matrix', fontsize=16, fontweight='bold', pad=15)\n",
        "axes[0, 0].set_ylabel('True Label', fontsize=12, fontweight='bold')\n",
        "axes[0, 0].set_xlabel('Predicted Label', fontsize=12, fontweight='bold')\n",
        "\n",
        "# 2. Training Accuracy\n",
        "axes[0, 1].plot(history.history['accuracy'], label='Training', linewidth=2, marker='o')\n",
        "axes[0, 1].plot(history.history['val_accuracy'], label='Validation', linewidth=2, marker='s')\n",
        "axes[0, 1].set_title('Model Accuracy', fontsize=16, fontweight='bold')\n",
        "axes[0, 1].set_xlabel('Epoch', fontsize=12)\n",
        "axes[0, 1].set_ylabel('Accuracy', fontsize=12)\n",
        "axes[0, 1].legend(loc='lower right', fontsize=10)\n",
        "axes[0, 1].grid(alpha=0.3)\n",
        "\n",
        "# 3. Training Loss\n",
        "axes[1, 0].plot(history.history['loss'], label='Training', linewidth=2, marker='o')\n",
        "axes[1, 0].plot(history.history['val_loss'], label='Validation', linewidth=2, marker='s')\n",
        "axes[1, 0].set_title('Model Loss', fontsize=16, fontweight='bold')\n",
        "axes[1, 0].set_xlabel('Epoch', fontsize=12)\n",
        "axes[1, 0].set_ylabel('Loss', fontsize=12)\n",
        "axes[1, 0].legend(loc='upper right', fontsize=10)\n",
        "axes[1, 0].grid(alpha=0.3)\n",
        "\n",
        "# 4. Prediction Distribution\n",
        "axes[1, 1].hist(y_pred_probs, bins=50, alpha=0.7, color='skyblue', edgecolor='black')\n",
        "axes[1, 1].axvline(x=0.5, color='red', linestyle='--', linewidth=2, label='Threshold=0.5')\n",
        "axes[1, 1].set_title('Prediction Distribution', fontsize=16, fontweight='bold')\n",
        "axes[1, 1].set_xlabel('Predicted Probability', fontsize=12)\n",
        "axes[1, 1].set_ylabel('Frequency', fontsize=12)\n",
        "axes[1, 1].legend(fontsize=10)\n",
        "axes[1, 1].grid(alpha=0.3)\n",
        "\n",
        "plt.tight_layout()\n",
        "plt.savefig('results/training_evaluation.png', dpi=300, bbox_inches='tight')\n",
        "print(\"✓ Evaluation plot saved: results/training_evaluation.png\")\n",
        "plt.show()"
      ]
    },
    {
      "cell_type": "code",
      "execution_count": 33,
      "metadata": {
        "id": "syFJIvCxyTMc",
        "colab": {
          "base_uri": "https://localhost:8080/",
          "height": 739
        },
        "outputId": "8e996e96-e3bc-413c-8fb4-a58fb7979887"
      },
      "outputs": [
        {
          "output_type": "stream",
          "name": "stdout",
          "text": [
            "✓ Confusion matrix saved: results/confusion_matrix.png\n"
          ]
        },
        {
          "output_type": "display_data",
          "data": {
            "text/plain": [
              "<Figure size 1000x800 with 2 Axes>"
            ],
            "image/png": "[encoded data removed]"
          },
          "metadata": {}
        }
      ],
      "source": [
        "# Large confusion matrix visualization\n",
        "plt.figure(figsize=(10, 8))\n",
        "sns.heatmap(cm, annot=True, fmt='d', cmap='Blues',\n",
        "            xticklabels=['Negative', 'Positive'],\n",
        "            yticklabels=['Negative', 'Positive'],\n",
        "            linewidths=3, linecolor='white',\n",
        "            annot_kws={'size': 20, 'weight': 'bold'},\n",
        "            cbar_kws={'label': 'Count'})\n",
        "plt.title('Confusion Matrix - LSTM IMDB Sentiment Analysis', fontsize=18, fontweight='bold', pad=20)\n",
        "plt.ylabel('True Label', fontsize=14, fontweight='bold')\n",
        "plt.xlabel('Predicted Label', fontsize=14, fontweight='bold')\n",
        "plt.tight_layout()\n",
        "plt.savefig('results/confusion_matrix.png', dpi=300, bbox_inches='tight')\n",
        "print(\"✓ Confusion matrix saved: results/confusion_matrix.png\")\n",
        "plt.show()"
      ]
    },
    {
      "cell_type": "markdown",
      "metadata": {
        "id": "EpOCuUjkyTMc"
      },
      "source": [
        "## 10. Save Model"
      ]
    },
    {
      "cell_type": "code",
      "execution_count": 34,
      "metadata": {
        "id": "u6CtTAM_yTMc",
        "colab": {
          "base_uri": "https://localhost:8080/"
        },
        "outputId": "1eb41eb1-266e-4529-aebd-08eb9ea3f2d4"
      },
      "outputs": [
        {
          "output_type": "stream",
          "name": "stdout",
          "text": [
            "✓ Model package saved: models/lstm_model_package.pkl\n",
            "  Package size: 15.66 MB\n"
          ]
        }
      ],
      "source": [
        "# Save complete model package\n",
        "model_package = {\n",
        "    \"model\": model,\n",
        "    \"tokenizer\": tokenizer,\n",
        "    \"max_tokens\": max_tokens,\n",
        "    \"threshold\": 0.5,\n",
        "    \"model_type\": \"lstm_keras\",\n",
        "    \"embedding_size\": embedding_size,\n",
        "    \"vocab_size\": 15000\n",
        "}\n",
        "\n",
        "with open('models/lstm_model_package.pkl', 'wb') as f:\n",
        "    pickle.dump(model_package, f)\n",
        "\n",
        "print(\"✓ Model package saved: models/lstm_model_package.pkl\")\n",
        "\n",
        "# Get file size\n",
        "file_size = os.path.getsize('models/lstm_model_package.pkl') / (1024 * 1024)\n",
        "print(f\"  Package size: {file_size:.2f} MB\")"
      ]
    },
    {
      "cell_type": "code",
      "execution_count": 35,
      "metadata": {
        "id": "VapjAQXlyTMd",
        "colab": {
          "base_uri": "https://localhost:8080/"
        },
        "outputId": "baea45af-4627-46af-da4a-86e0cd5e7c69"
      },
      "outputs": [
        {
          "output_type": "stream",
          "name": "stdout",
          "text": [
            "✓ Model saved: models/lstm_model.keras\n",
            "✓ Tokenizer saved: models/tokenizer.pkl\n",
            "✓ Config saved: models/model_config.pkl\n"
          ]
        }
      ],
      "source": [
        "# Save model separately (alternative method)\n",
        "model.save('models/lstm_model.keras')\n",
        "print(\"✓ Model saved: models/lstm_model.keras\")\n",
        "\n",
        "with open('models/tokenizer.pkl', 'wb') as f:\n",
        "    pickle.dump(tokenizer, f)\n",
        "print(\"✓ Tokenizer saved: models/tokenizer.pkl\")\n",
        "\n",
        "config = {\n",
        "    'max_tokens': max_tokens,\n",
        "    'threshold': 0.5,\n",
        "    'vocab_size': 15000,\n",
        "    'embedding_size': embedding_size\n",
        "}\n",
        "\n",
        "with open('models/model_config.pkl', 'wb') as f:\n",
        "    pickle.dump(config, f)\n",
        "print(\"✓ Config saved: models/model_config.pkl\")"
      ]
    },
    {
      "cell_type": "markdown",
      "metadata": {
        "id": "wdbVZ00myTMd"
      },
      "source": [
        "## 11. Save Evaluation Metrics"
      ]
    },
    {
      "cell_type": "code",
      "execution_count": 36,
      "metadata": {
        "id": "e118M5LYyTMd",
        "colab": {
          "base_uri": "https://localhost:8080/"
        },
        "outputId": "09833803-4600-4872-f34f-cf8a5350f21b"
      },
      "outputs": [
        {
          "output_type": "stream",
          "name": "stdout",
          "text": [
            "✓ Metrics saved: results/evaluation_metrics.txt\n"
          ]
        }
      ],
      "source": [
        "# Save metrics to text file\n",
        "with open('results/evaluation_metrics.txt', 'w') as f:\n",
        "    f.write(\"=\"*60 + \"\\n\")\n",
        "    f.write(\"LSTM IMDB SENTIMENT ANALYSIS - EVALUATION RESULTS\\n\")\n",
        "    f.write(\"=\"*60 + \"\\n\\n\")\n",
        "    f.write(f\"Test Accuracy: {test_accuracy:.4f}\\n\")\n",
        "    f.write(f\"Test Loss: {test_loss:.4f}\\n\\n\")\n",
        "    f.write(\"Confusion Matrix:\\n\")\n",
        "    f.write(str(cm) + \"\\n\\n\")\n",
        "    f.write(classification_report(y_test, y_pred, target_names=['Negative', 'Positive']))\n",
        "    f.write(f\"\\n\\nDetailed Metrics:\\n\")\n",
        "    f.write(f\"True Negatives:  {tn}\\n\")\n",
        "    f.write(f\"False Positives: {fp}\\n\")\n",
        "    f.write(f\"False Negatives: {fn}\\n\")\n",
        "    f.write(f\"True Positives:  {tp}\\n\")\n",
        "    f.write(f\"\\nAccuracy:  {accuracy:.4f}\\n\")\n",
        "    f.write(f\"Precision: {precision:.4f}\\n\")\n",
        "    f.write(f\"Recall:    {recall:.4f}\\n\")\n",
        "    f.write(f\"F1-Score:  {f1:.4f}\\n\")\n",
        "\n",
        "print(\"✓ Metrics saved: results/evaluation_metrics.txt\")"
      ]
    },
    {
      "cell_type": "markdown",
      "metadata": {
        "id": "oq73-Cv6yTMe"
      },
      "source": [
        "## 12. Summary"
      ]
    },
    {
      "cell_type": "code",
      "execution_count": 37,
      "metadata": {
        "id": "gWpuqLUsyTMe",
        "colab": {
          "base_uri": "https://localhost:8080/"
        },
        "outputId": "d65b5bce-0aa2-46ed-d95f-f6970d8b9da6"
      },
      "outputs": [
        {
          "output_type": "stream",
          "name": "stdout",
          "text": [
            "\n",
            "======================================================================\n",
            "✓ TRAINING AND EVALUATION COMPLETE!\n",
            "======================================================================\n",
            "\n",
            "🔧 KEY FIXES APPLIED:\n",
            "  1. ✅ Fixed denoise_text() function - now actually cleans text\n",
            "  2. ✅ Tokenizer fitted only on training data (no data leakage)\n",
            "  3. ✅ Correct preprocessing order\n",
            "  4. ✅ Added batch_size=1000 to training\n",
            "  5. ✅ Complete evaluation with confusion matrix\n",
            "\n",
            "📁 FILES SAVED:\n",
            "  Models:\n",
            "    - models/lstm_model_package.pkl (complete package)\n",
            "    - models/lstm_model.keras (model only)\n",
            "    - models/tokenizer.pkl (tokenizer)\n",
            "    - models/model_config.pkl (config)\n",
            "  Results:\n",
            "    - results/training_evaluation.png\n",
            "    - results/confusion_matrix.png\n",
            "    - results/evaluation_metrics.txt\n",
            "\n",
            "📊 FINAL RESULTS:\n",
            "  Test Accuracy: 0.5467\n",
            "  Test Loss: 0.6859\n",
            "  Precision: 0.7632\n",
            "  Recall: 0.1354\n",
            "  F1-Score: 0.2300\n",
            "\n",
            "🚀 NEXT STEPS:\n",
            "  1. Download the models/ folder from Colab\n",
            "  2. Test the model: python scripts/test_model.py\n",
            "  3. Start API: uvicorn src.api.app:app --reload\n",
            "  4. Run Streamlit: streamlit run streamlit_app.py\n",
            "\n",
            "======================================================================\n"
          ]
        }
      ],
      "source": [
        "print(\"\\n\" + \"=\"*70)\n",
        "print(\"✓ TRAINING AND EVALUATION COMPLETE!\")\n",
        "print(\"=\"*70)\n",
        "\n",
        "print(\"\\n🔧 KEY FIXES APPLIED:\")\n",
        "print(\"  1. ✅ Fixed denoise_text() function - now actually cleans text\")\n",
        "print(\"  2. ✅ Tokenizer fitted only on training data (no data leakage)\")\n",
        "print(\"  3. ✅ Correct preprocessing order\")\n",
        "print(\"  4. ✅ Added batch_size=1000 to training\")\n",
        "print(\"  5. ✅ Complete evaluation with confusion matrix\")\n",
        "\n",
        "print(\"\\n📁 FILES SAVED:\")\n",
        "print(\"  Models:\")\n",
        "print(\"    - models/lstm_model_package.pkl (complete package)\")\n",
        "print(\"    - models/lstm_model.keras (model only)\")\n",
        "print(\"    - models/tokenizer.pkl (tokenizer)\")\n",
        "print(\"    - models/model_config.pkl (config)\")\n",
        "print(\"  Results:\")\n",
        "print(\"    - results/training_evaluation.png\")\n",
        "print(\"    - results/confusion_matrix.png\")\n",
        "print(\"    - results/evaluation_metrics.txt\")\n",
        "\n",
        "print(\"\\n📊 FINAL RESULTS:\")\n",
        "print(f\"  Test Accuracy: {test_accuracy:.4f}\")\n",
        "print(f\"  Test Loss: {test_loss:.4f}\")\n",
        "print(f\"  Precision: {precision:.4f}\")\n",
        "print(f\"  Recall: {recall:.4f}\")\n",
        "print(f\"  F1-Score: {f1:.4f}\")\n",
        "\n",
        "print(\"\\n🚀 NEXT STEPS:\")\n",
        "print(\"  1. Download the models/ folder from Colab\")\n",
        "print(\"  2. Test the model: python scripts/test_model.py\")\n",
        "print(\"  3. Start API: uvicorn src.api.app:app --reload\")\n",
        "print(\"  4. Run Streamlit: streamlit run streamlit_app.py\")\n",
        "\n",
        "print(\"\\n\" + \"=\"*70)"
      ]
    },
    {
      "cell_type": "markdown",
      "metadata": {
        "id": "uXOia2D-yTMf"
      },
      "source": [
        "## 13. Test Predictions (Optional)"
      ]
    },
    {
      "cell_type": "code",
      "execution_count": 38,
      "metadata": {
        "id": "jAeu9OezyTMf",
        "colab": {
          "base_uri": "https://localhost:8080/"
        },
        "outputId": "399144eb-9258-474e-ba8d-2361b9a64a36"
      },
      "outputs": [
        {
          "output_type": "stream",
          "name": "stdout",
          "text": [
            "Testing with custom reviews:\n",
            "\n",
            "======================================================================\n",
            "Review: This movie was absolutely fantastic! I loved every moment of...\n",
            "Prediction: Negative 😞 (confidence: 0.4901)\n",
            "----------------------------------------------------------------------\n",
            "Review: Terrible film, complete waste of time and money....\n",
            "Prediction: Negative 😞 (confidence: 0.4901)\n",
            "----------------------------------------------------------------------\n",
            "Review: The acting was great but the plot was confusing....\n",
            "Prediction: Negative 😞 (confidence: 0.4901)\n",
            "----------------------------------------------------------------------\n",
            "Review: One of the best movies I've ever seen! Highly recommended....\n",
            "Prediction: Negative 😞 (confidence: 0.4901)\n",
            "----------------------------------------------------------------------\n",
            "Review: Boring and predictable. Would not watch again....\n",
            "Prediction: Negative 😞 (confidence: 0.4901)\n",
            "----------------------------------------------------------------------\n"
          ]
        }
      ],
      "source": [
        "# Test with custom examples\n",
        "test_reviews = [\n",
        "    \"This movie was absolutely fantastic! I loved every moment of it.\",\n",
        "    \"Terrible film, complete waste of time and money.\",\n",
        "    \"The acting was great but the plot was confusing.\",\n",
        "    \"One of the best movies I've ever seen! Highly recommended.\",\n",
        "    \"Boring and predictable. Would not watch again.\"\n",
        "]\n",
        "\n",
        "print(\"Testing with custom reviews:\\n\")\n",
        "print(\"=\"*70)\n",
        "\n",
        "for review in test_reviews:\n",
        "    # Preprocess\n",
        "    processed = denoise_text(review)\n",
        "    processed = re.sub(r'[,\\.!?:()\"\\']', '', processed) # Fixed: Escaped special characters\n",
        "    processed = re.sub(r'[^a-zA-Z\\s]', ' ', processed)\n",
        "    processed = processed.lower().strip()\n",
        "    processed = re.sub(r'\\s+', ' ', processed)\n",
        "    processed = remove_stopwords(processed)\n",
        "\n",
        "    # Tokenize and pad\n",
        "    seq = tokenizer.texts_to_sequences([processed])\n",
        "    padded = pad_sequences(seq, maxlen=max_tokens, padding='post', truncating='post')\n",
        "\n",
        "    # Predict\n",
        "    prob = model.predict(padded, verbose=0)[0][0]\n",
        "    sentiment = \"Positive 😊\" if prob >= 0.5 else \"Negative 😞\"\n",
        "\n",
        "    print(f\"Review: {review[:60]}...\")\n",
        "    print(f\"Prediction: {sentiment} (confidence: {prob:.4f})\")\n",
        "    print(\"-\"*70)"
      ]
    },
    {
      "cell_type": "code",
      "source": [
        "# Check if model actually trained\n",
        "print(\"=\"*70)\n",
        "print(\"MODEL TRAINING DIAGNOSTICS\")\n",
        "print(\"=\"*70)\n",
        "\n",
        "# Check training history\n",
        "if 'accuracy' in history.history:\n",
        "    final_train_acc = history.history['accuracy'][-1]\n",
        "    final_val_acc = history.history['val_accuracy'][-1]\n",
        "    print(f\"\\nFinal Training Accuracy: {final_train_acc:.4f}\")\n",
        "    print(f\"Final Validation Accuracy: {final_val_acc:.4f}\")\n",
        "\n",
        "    if final_train_acc < 0.6:\n",
        "        print(\"⚠️ WARNING: Training accuracy is too low!\")\n",
        "    else:\n",
        "        print(\"✓ Model trained successfully\")\n",
        "\n",
        "# Check model weights (should NOT be all zeros)\n",
        "print(f\"\\nSample embedding weights (first 10 values):\")\n",
        "print(model.layers[0].get_weights()[0][0][:10])"
      ],
      "metadata": {
        "id": "IgqW78We3_zm",
        "colab": {
          "base_uri": "https://localhost:8080/"
        },
        "outputId": "4f63336e-9f83-4e1d-c653-ccb6471bcc2b"
      },
      "execution_count": 39,
      "outputs": [
        {
          "output_type": "stream",
          "name": "stdout",
          "text": [
            "======================================================================\n",
            "MODEL TRAINING DIAGNOSTICS\n",
            "======================================================================\n",
            "\n",
            "Final Training Accuracy: 0.5506\n",
            "Final Validation Accuracy: 0.5437\n",
            "⚠️ WARNING: Training accuracy is too low!\n",
            "\n",
            "Sample embedding weights (first 10 values):\n",
            "[-0.30818838  0.44627577 -0.49609622  0.45677736  0.39813662 -0.5454068\n",
            "  0.58714294 -0.5086327   0.34866706  0.45571488]\n"
          ]
        }
      ]
    },
    {
      "cell_type": "code",
      "source": [
        "# Test model on a sample from training data\n",
        "print(\"\\n\" + \"=\"*70)\n",
        "print(\"TESTING ON TRAINING DATA SAMPLE\")\n",
        "print(\"=\"*70)\n",
        "\n",
        "sample_idx = 0\n",
        "sample_padded = x_train_pad[sample_idx:sample_idx+1]\n",
        "sample_label = y_train[sample_idx]\n",
        "\n",
        "prob = model.predict(sample_padded, verbose=0)[0][0]\n",
        "\n",
        "print(f\"True label: {'Positive (1)' if sample_label == 1 else 'Negative (0)'}\")\n",
        "print(f\"Predicted probability: {prob:.4f}\")\n",
        "print(f\"Predicted label: {'Positive' if prob >= 0.5 else 'Negative'}\")\n",
        "\n",
        "if abs(prob - 0.2563) < 0.001:\n",
        "    print(\"\\n⚠️ PROBLEM: Model outputting constant value!\")\n",
        "    print(\"Model did not learn properly during training.\")\n",
        "else:\n",
        "    print(\"\\n✓ Model is working on training data\")"
      ],
      "metadata": {
        "id": "8LGz9WlL3_n2",
        "colab": {
          "base_uri": "https://localhost:8080/"
        },
        "outputId": "b81fd1c2-a631-4e74-eb5f-07660617b4db"
      },
      "execution_count": 40,
      "outputs": [
        {
          "output_type": "stream",
          "name": "stdout",
          "text": [
            "\n",
            "======================================================================\n",
            "TESTING ON TRAINING DATA SAMPLE\n",
            "======================================================================\n",
            "True label: Positive (1)\n",
            "Predicted probability: 0.4901\n",
            "Predicted label: Negative\n",
            "\n",
            "✓ Model is working on training data\n"
          ]
        }
      ]
    },
    {
      "cell_type": "code",
      "source": [
        "# Define preprocessing function for new text\n",
        "def preprocess_for_prediction(text):\n",
        "    \"\"\"\n",
        "    Apply EXACT same preprocessing as training data\n",
        "    \"\"\"\n",
        "    # Step 1: Denoise (HTML and square brackets)\n",
        "    text = strip_html(text)\n",
        "    text = remove_between_square_brackets(text)\n",
        "\n",
        "    # Step 2: Remove punctuation\n",
        "    text = re.sub(r'[,\\.!?:()\"\\']', '', text)\n",
        "    text = re.sub(r'[^a-zA-Z\\s]', ' ', text)\n",
        "\n",
        "    # Step 3: Lowercase\n",
        "    text = text.lower()\n",
        "\n",
        "    # Step 4: Strip whitespace\n",
        "    text = text.strip()\n",
        "    text = re.sub(r'\\s+', ' ', text)\n",
        "\n",
        "    # Step 5: Remove stopwords\n",
        "    text = remove_stopwords(text)\n",
        "\n",
        "    return text\n",
        "\n",
        "print(\"✓ Preprocessing function defined\")"
      ],
      "metadata": {
        "id": "Fzal1P133_ee",
        "colab": {
          "base_uri": "https://localhost:8080/"
        },
        "outputId": "69ceb5f0-1b50-45ca-ee80-2c0c93160d98"
      },
      "execution_count": 41,
      "outputs": [
        {
          "output_type": "stream",
          "name": "stdout",
          "text": [
            "✓ Preprocessing function defined\n"
          ]
        }
      ]
    },
    {
      "cell_type": "code",
      "source": [
        "# Debug: Test preprocessing on single review\n",
        "test_text = \"This movie was absolutely fantastic\"\n",
        "\n",
        "print(\"=\"*70)\n",
        "print(\"DEBUGGING SINGLE REVIEW\")\n",
        "print(\"=\"*70)\n",
        "\n",
        "print(f\"\\n1. Original text:\")\n",
        "print(f\"   '{test_text}'\")\n",
        "\n",
        "# Preprocess\n",
        "processed = preprocess_for_prediction(test_text)\n",
        "print(f\"\\n2. After preprocessing:\")\n",
        "print(f\"   '{processed}'\")\n",
        "\n",
        "# Tokenize\n",
        "seq = tokenizer.texts_to_sequences([processed])\n",
        "print(f\"\\n3. Tokenized sequence (first 20 tokens):\")\n",
        "print(f\"   {seq[0][:20] if seq[0] else 'EMPTY!'}\")\n",
        "\n",
        "# Count non-zero tokens\n",
        "non_zero = len([t for t in seq[0] if t != 0]) if seq[0] else 0\n",
        "print(f\"\\n4. Number of recognized words: {non_zero}\")\n",
        "\n",
        "if non_zero == 0:\n",
        "    print(\"\\n⚠️ PROBLEM: No words recognized by tokenizer!\")\n",
        "    print(\"   All words were removed or not in vocabulary.\")\n",
        "\n",
        "    # Check what words remain after preprocessing\n",
        "    words = processed.split()\n",
        "    print(f\"\\n   Words after preprocessing: {words[:10]}\")\n",
        "\n",
        "    # Check which words are in vocabulary\n",
        "    print(f\"\\n   Checking vocabulary:\")\n",
        "    for word in words[:5]:\n",
        "        if word in tokenizer.word_index:\n",
        "            print(f\"      '{word}' → index {tokenizer.word_index[word]}\")\n",
        "        else:\n",
        "            print(f\"      '{word}' → NOT IN VOCABULARY\")\n",
        "else:\n",
        "    # Pad and predict\n",
        "    padded = pad_sequences(seq, maxlen=max_tokens, padding='post', truncating='post')\n",
        "    prob = model.predict(padded, verbose=0)[0][0]\n",
        "\n",
        "    print(f\"\\n5. Prediction:\")\n",
        "    print(f\"   Probability: {prob:.4f}\")\n",
        "    print(f\"   Sentiment: {'Positive 😊' if prob >= 0.5 else 'Negative 😞'}\")"
      ],
      "metadata": {
        "id": "QVxjURgH3_VI",
        "colab": {
          "base_uri": "https://localhost:8080/"
        },
        "outputId": "6dcf5308-bdec-48ca-99ec-49db64e11319"
      },
      "execution_count": 42,
      "outputs": [
        {
          "output_type": "stream",
          "name": "stdout",
          "text": [
            "======================================================================\n",
            "DEBUGGING SINGLE REVIEW\n",
            "======================================================================\n",
            "\n",
            "1. Original text:\n",
            "   'This movie was absolutely fantastic'\n",
            "\n",
            "2. After preprocessing:\n",
            "   'movie absolutely fantastic'\n",
            "\n",
            "3. Tokenized sequence (first 20 tokens):\n",
            "   [2, 305, 692]\n",
            "\n",
            "4. Number of recognized words: 3\n",
            "\n",
            "5. Prediction:\n",
            "   Probability: 0.4901\n",
            "   Sentiment: Negative 😞\n"
          ]
        }
      ]
    },
    {
      "cell_type": "code",
      "source": [
        "# Test with custom reviews\n",
        "test_reviews = [\n",
        "    \"This movie was absolutely fantastic! I loved every moment of it.\",\n",
        "    \"Terrible film, complete waste of time and money.\",\n",
        "    \"The acting was great but the plot was confusing.\",\n",
        "    \"One of the best movies I've ever seen! Highly recommended.\",\n",
        "    \"Boring and predictable. Would not watch again.\"\n",
        "]\n",
        "\n",
        "print(\"\\n\" + \"=\"*70)\n",
        "print(\"TESTING CUSTOM REVIEWS (CORRECTED)\")\n",
        "print(\"=\"*70)\n",
        "\n",
        "for i, review in enumerate(test_reviews, 1):\n",
        "    print(f\"\\n{i}. Review: {review}\")\n",
        "\n",
        "    # Preprocess\n",
        "    processed = preprocess_for_prediction(review)\n",
        "    print(f\"   Processed: {processed[:60]}...\")\n",
        "\n",
        "    # Tokenize and pad\n",
        "    seq = tokenizer.texts_to_sequences([processed])\n",
        "    padded = pad_sequences(seq, maxlen=max_tokens, padding='post', truncating='post')\n",
        "\n",
        "    # Count recognized words\n",
        "    non_zero = np.count_nonzero(padded)\n",
        "    print(f\"   Recognized tokens: {non_zero}/{max_tokens}\")\n",
        "\n",
        "    # Predict\n",
        "    prob = model.predict(padded, verbose=0)[0][0]\n",
        "    sentiment = \"Positive 😊\" if prob >= 0.5 else \"Negative 😞\"\n",
        "\n",
        "    print(f\"   → Prediction: {sentiment}\")\n",
        "    print(f\"   → Probability (positive): {prob:.4f}\")\n",
        "    print(\"-\"*70)"
      ],
      "metadata": {
        "id": "QzzxQyyw3_Ku",
        "colab": {
          "base_uri": "https://localhost:8080/"
        },
        "outputId": "877df0f6-7f8f-4bc2-f43a-c618efca26f9"
      },
      "execution_count": 43,
      "outputs": [
        {
          "output_type": "stream",
          "name": "stdout",
          "text": [
            "\n",
            "======================================================================\n",
            "TESTING CUSTOM REVIEWS (CORRECTED)\n",
            "======================================================================\n",
            "\n",
            "1. Review: This movie was absolutely fantastic! I loved every moment of it.\n",
            "   Processed: movie absolutely fantastic loved every moment...\n",
            "   Recognized tokens: 6/301\n",
            "   → Prediction: Negative 😞\n",
            "   → Probability (positive): 0.4901\n",
            "----------------------------------------------------------------------\n",
            "\n",
            "2. Review: Terrible film, complete waste of time and money.\n",
            "   Processed: terrible film complete waste time money...\n",
            "   Recognized tokens: 6/301\n",
            "   → Prediction: Negative 😞\n",
            "   → Probability (positive): 0.4901\n",
            "----------------------------------------------------------------------\n",
            "\n",
            "3. Review: The acting was great but the plot was confusing.\n",
            "   Processed: acting great plot confusing...\n",
            "   Recognized tokens: 4/301\n",
            "   → Prediction: Negative 😞\n",
            "   → Probability (positive): 0.4901\n",
            "----------------------------------------------------------------------\n",
            "\n",
            "4. Review: One of the best movies I've ever seen! Highly recommended.\n",
            "   Processed: one best movies ive ever seen highly recommended...\n",
            "   Recognized tokens: 8/301\n",
            "   → Prediction: Negative 😞\n",
            "   → Probability (positive): 0.4901\n",
            "----------------------------------------------------------------------\n",
            "\n",
            "5. Review: Boring and predictable. Would not watch again.\n",
            "   Processed: boring predictable would watch...\n",
            "   Recognized tokens: 4/301\n",
            "   → Prediction: Negative 😞\n",
            "   → Probability (positive): 0.4901\n",
            "----------------------------------------------------------------------\n"
          ]
        }
      ]
    },
    {
      "cell_type": "markdown",
      "metadata": {
        "id": "CC2ltE8FyTMg"
      },
      "source": [
        "## 14. Download Files (For Google Colab)"
      ]
    },
    {
      "cell_type": "code",
      "source": [
        "# Check what happened during training\n",
        "print(\"=\"*70)\n",
        "print(\"TRAINING DIAGNOSTICS\")\n",
        "print(\"=\"*70)\n",
        "\n",
        "print(\"\\nTraining History:\")\n",
        "for epoch in range(len(history.history['accuracy'])):\n",
        "    train_acc = history.history['accuracy'][epoch]\n",
        "    val_acc = history.history['val_accuracy'][epoch]\n",
        "    train_loss = history.history['loss'][epoch]\n",
        "    val_loss = history.history['val_loss'][epoch]\n",
        "    print(f\"Epoch {epoch+1}: Train Acc={train_acc:.4f}, Val Acc={val_acc:.4f}, Train Loss={train_loss:.4f}, Val Loss={val_loss:.4f}\")\n",
        "\n",
        "print(f\"\\nFinal Results:\")\n",
        "print(f\"  Training Accuracy: {history.history['accuracy'][-1]:.4f}\")\n",
        "print(f\"  Validation Accuracy: {history.history['val_accuracy'][-1]:.4f}\")\n",
        "print(f\"  Test Accuracy: {test_accuracy:.4f}\")\n",
        "\n",
        "# Check if model is better than random guessing\n",
        "if test_accuracy < 0.55:\n",
        "    print(\"\\n⚠️ CRITICAL: Model is barely better than random guessing (50%)!\")\n",
        "    print(\"The model did not learn properly.\")"
      ],
      "metadata": {
        "id": "U5QcL7_y4sK-",
        "colab": {
          "base_uri": "https://localhost:8080/"
        },
        "outputId": "ef163e5c-2ae2-4e2f-dae0-1a02318cc0e0"
      },
      "execution_count": 44,
      "outputs": [
        {
          "output_type": "stream",
          "name": "stdout",
          "text": [
            "======================================================================\n",
            "TRAINING DIAGNOSTICS\n",
            "======================================================================\n",
            "\n",
            "Training History:\n",
            "Epoch 1: Train Acc=0.5029, Val Acc=0.5002, Train Loss=0.6932, Val Loss=0.6932\n",
            "Epoch 2: Train Acc=0.5032, Val Acc=0.5050, Train Loss=0.6929, Val Loss=0.6930\n",
            "Epoch 3: Train Acc=0.5074, Val Acc=0.5062, Train Loss=0.6924, Val Loss=0.6922\n",
            "Epoch 4: Train Acc=0.5129, Val Acc=0.5137, Train Loss=0.6864, Val Loss=0.6915\n",
            "Epoch 5: Train Acc=0.5268, Val Acc=0.5220, Train Loss=0.6786, Val Loss=0.6880\n",
            "Epoch 6: Train Acc=0.5446, Val Acc=0.5196, Train Loss=0.6675, Val Loss=0.6954\n",
            "Epoch 7: Train Acc=0.5399, Val Acc=0.5230, Train Loss=0.6675, Val Loss=0.6962\n",
            "Epoch 8: Train Acc=0.5450, Val Acc=0.5283, Train Loss=0.6629, Val Loss=0.6998\n",
            "Epoch 9: Train Acc=0.5626, Val Acc=0.5333, Train Loss=0.6532, Val Loss=0.6896\n",
            "Epoch 10: Train Acc=0.5968, Val Acc=0.7591, Train Loss=0.6429, Val Loss=0.6273\n",
            "Epoch 11: Train Acc=0.6990, Val Acc=0.4998, Train Loss=0.5960, Val Loss=0.7379\n",
            "Epoch 12: Train Acc=0.4997, Val Acc=0.4997, Train Loss=0.7151, Val Loss=0.7034\n",
            "Epoch 13: Train Acc=0.5002, Val Acc=0.4997, Train Loss=0.6986, Val Loss=0.6955\n",
            "Epoch 14: Train Acc=0.4992, Val Acc=0.4997, Train Loss=0.6947, Val Loss=0.6944\n",
            "Epoch 15: Train Acc=0.4978, Val Acc=0.4997, Train Loss=0.6940, Val Loss=0.6942\n",
            "Epoch 16: Train Acc=0.5045, Val Acc=0.4998, Train Loss=0.6935, Val Loss=0.6941\n",
            "Epoch 17: Train Acc=0.5010, Val Acc=0.5006, Train Loss=0.6929, Val Loss=0.6937\n",
            "Epoch 18: Train Acc=0.4978, Val Acc=0.5019, Train Loss=0.6917, Val Loss=0.6929\n",
            "Epoch 19: Train Acc=0.5174, Val Acc=0.5197, Train Loss=0.6842, Val Loss=0.6854\n",
            "Epoch 20: Train Acc=0.5506, Val Acc=0.5437, Train Loss=0.6637, Val Loss=0.6900\n",
            "\n",
            "Final Results:\n",
            "  Training Accuracy: 0.5506\n",
            "  Validation Accuracy: 0.5437\n",
            "  Test Accuracy: 0.5467\n",
            "\n",
            "⚠️ CRITICAL: Model is barely better than random guessing (50%)!\n",
            "The model did not learn properly.\n"
          ]
        }
      ]
    },
    {
      "cell_type": "code",
      "source": [
        "# Test on multiple samples from test set\n",
        "print(\"\\n\" + \"=\"*70)\n",
        "print(\"TESTING ON TEST SET SAMPLES\")\n",
        "print(\"=\"*70)\n",
        "\n",
        "# Get predictions for first 10 test samples\n",
        "sample_preds = model.predict(x_test_pad[:10], verbose=0)\n",
        "\n",
        "print(\"\\nFirst 10 test samples:\")\n",
        "for i in range(10):\n",
        "    true_label = \"Positive\" if y_test[i] == 1 else \"Negative\"\n",
        "    pred_prob = sample_preds[i][0]\n",
        "    pred_label = \"Positive\" if pred_prob >= 0.5 else \"Negative\"\n",
        "\n",
        "    print(f\"{i+1}. True: {true_label:8} | Pred: {pred_label:8} | Prob: {pred_prob:.4f}\")\n",
        "\n",
        "# Check if all predictions are the same\n",
        "unique_preds = np.unique(np.round(sample_preds, 4))\n",
        "print(f\"\\nUnique prediction values: {unique_preds}\")\n",
        "\n",
        "if len(unique_preds) == 1:\n",
        "    print(\"⚠️ PROBLEM: Model outputs same value for all inputs!\")\n",
        "    print(\"Model weights are stuck or not updating.\")\n"
      ],
      "metadata": {
        "id": "03D6cPM44vLJ",
        "colab": {
          "base_uri": "https://localhost:8080/"
        },
        "outputId": "ad85f417-7c1b-4123-e80c-2dfdb81bc6ef"
      },
      "execution_count": 45,
      "outputs": [
        {
          "output_type": "stream",
          "name": "stdout",
          "text": [
            "\n",
            "======================================================================\n",
            "TESTING ON TEST SET SAMPLES\n",
            "======================================================================\n",
            "\n",
            "First 10 test samples:\n",
            "1. True: Negative | Pred: Negative | Prob: 0.4901\n",
            "2. True: Negative | Pred: Negative | Prob: 0.4901\n",
            "3. True: Positive | Pred: Negative | Prob: 0.4901\n",
            "4. True: Negative | Pred: Negative | Prob: 0.4901\n",
            "5. True: Negative | Pred: Negative | Prob: 0.4901\n",
            "6. True: Negative | Pred: Negative | Prob: 0.4901\n",
            "7. True: Negative | Pred: Negative | Prob: 0.4901\n",
            "8. True: Negative | Pred: Negative | Prob: 0.4901\n",
            "9. True: Negative | Pred: Negative | Prob: 0.4901\n",
            "10. True: Negative | Pred: Negative | Prob: 0.4901\n",
            "\n",
            "Unique prediction values: [0.4901]\n",
            "⚠️ PROBLEM: Model outputs same value for all inputs!\n",
            "Model weights are stuck or not updating.\n"
          ]
        }
      ]
    },
    {
      "cell_type": "code",
      "source": [
        "# Check if model weights are reasonable\n",
        "print(\"\\n\" + \"=\"*70)\n",
        "print(\"MODEL WEIGHTS CHECK\")\n",
        "print(\"=\"*70)\n",
        "\n",
        "# Check embedding layer\n",
        "embedding_weights = model.layers[0].get_weights()[0]\n",
        "print(f\"\\nEmbedding layer shape: {embedding_weights.shape}\")\n",
        "print(f\"Embedding weights (first 10 values of first word):\")\n",
        "print(embedding_weights[0][:10])\n",
        "print(f\"Are all weights zero? {np.all(embedding_weights == 0)}\")\n",
        "print(f\"Weight range: [{embedding_weights.min():.4f}, {embedding_weights.max():.4f}]\")\n",
        "\n",
        "# Check LSTM layer\n",
        "lstm_weights = model.layers[1].get_weights()\n",
        "print(f\"\\nFirst LSTM layer has {len(lstm_weights)} weight matrices\")\n",
        "print(f\"First weight matrix shape: {lstm_weights[0].shape}\")\n",
        "print(f\"Weight range: [{lstm_weights[0].min():.4f}, {lstm_weights[0].max():.4f}]\")\n",
        "\n",
        "# Check Dense layer\n",
        "dense_weights = model.layers[-1].get_weights()\n",
        "print(f\"\\nDense layer weights shape: {dense_weights[0].shape}\")\n",
        "print(f\"Dense weights: {dense_weights[0].flatten()[:10]}\")\n",
        "print(f\"Dense bias: {dense_weights[1]}\")"
      ],
      "metadata": {
        "id": "pSaA9aq-43Hh",
        "colab": {
          "base_uri": "https://localhost:8080/"
        },
        "outputId": "e39725ef-259d-4dd5-b638-f6b29e7abbf6"
      },
      "execution_count": 46,
      "outputs": [
        {
          "output_type": "stream",
          "name": "stdout",
          "text": [
            "\n",
            "======================================================================\n",
            "MODEL WEIGHTS CHECK\n",
            "======================================================================\n",
            "\n",
            "Embedding layer shape: (15000, 50)\n",
            "Embedding weights (first 10 values of first word):\n",
            "[-0.30818838  0.44627577 -0.49609622  0.45677736  0.39813662 -0.5454068\n",
            "  0.58714294 -0.5086327   0.34866706  0.45571488]\n",
            "Are all weights zero? False\n",
            "Weight range: [-0.6045, 0.6499]\n",
            "\n",
            "First LSTM layer has 3 weight matrices\n",
            "First weight matrix shape: (50, 128)\n",
            "Weight range: [-0.3363, 0.3092]\n",
            "\n",
            "Dense layer weights shape: (16, 1)\n",
            "Dense weights: [ 0.2801076   0.13723388 -0.00180554 -0.13074955 -0.6452849  -0.3821005\n",
            " -0.19671027  0.35290548  0.56365407  0.35282534]\n",
            "Dense bias: [0.04250314]\n"
          ]
        }
      ]
    },
    {
      "cell_type": "code",
      "source": [
        "# ============================================================================\n",
        "# RETRAIN MODEL WITH IMPROVED ARCHITECTURE\n",
        "# ============================================================================\n",
        "\n",
        "print(\"=\"*70)\n",
        "print(\"RETRAINING MODEL WITH IMPROVED SETTINGS\")\n",
        "print(\"=\"*70)\n",
        "\n",
        "from tensorflow.keras.callbacks import EarlyStopping, ReduceLROnPlateau\n",
        "\n",
        "# Build better model\n",
        "model_v2 = Sequential([\n",
        "    Embedding(input_dim=15000, output_dim=128, input_length=max_tokens, name='embedding'),\n",
        "\n",
        "    # Bidirectional LSTM for better context\n",
        "    Bidirectional(LSTM(units=64, return_sequences=True, dropout=0.2, recurrent_dropout=0.2)),\n",
        "\n",
        "    # Second LSTM layer\n",
        "    LSTM(units=32, dropout=0.2, recurrent_dropout=0.2),\n",
        "\n",
        "    # Dense layers for better decision making\n",
        "    Dense(64, activation='relu'),\n",
        "    Dropout(0.5),\n",
        "    Dense(32, activation='relu'),\n",
        "    Dropout(0.5),\n",
        "    Dense(1, activation='sigmoid')\n",
        "])\n",
        "\n",
        "# Compile with lower learning rate\n",
        "optimizer = Adam(learning_rate=0.0005)  # Lower learning rate\n",
        "model_v2.compile(loss='binary_crossentropy', optimizer=optimizer, metrics=['accuracy'])\n",
        "\n",
        "print(\"\\nNew Model Architecture:\")\n",
        "model_v2.summary()\n",
        "\n",
        "# Callbacks for better training\n",
        "early_stop = EarlyStopping(monitor='val_loss', patience=3, restore_best_weights=True, verbose=1)\n",
        "reduce_lr = ReduceLROnPlateau(monitor='val_loss', factor=0.5, patience=2, min_lr=0.00001, verbose=1)\n",
        "\n",
        "# Train\n",
        "print(\"\\nTraining improved model...\")\n",
        "history_v2 = model_v2.fit(\n",
        "    x_train_pad, y_train,\n",
        "    validation_split=0.3,\n",
        "    epochs=15,\n",
        "    batch_size=512,  # Smaller batch size\n",
        "    callbacks=[early_stop, reduce_lr],\n",
        "    shuffle=True,\n",
        "    verbose=1\n",
        ")\n",
        "\n",
        "# Evaluate\n",
        "print(\"\\nEvaluating improved model...\")\n",
        "test_loss_v2, test_accuracy_v2 = model_v2.evaluate(x_test_pad, y_test, verbose=1)\n",
        "print(f\"\\nImproved Model Results:\")\n",
        "print(f\"  Test Accuracy: {test_accuracy_v2:.4f}\")\n",
        "print(f\"  Test Loss: {test_loss_v2:.4f}\")"
      ],
      "metadata": {
        "collapsed": true,
        "id": "NACxneTb5fnu",
        "colab": {
          "base_uri": "https://localhost:8080/",
          "height": 984
        },
        "outputId": "dc901407-320d-4295-9193-2093b7c70ecd"
      },
      "execution_count": 47,
      "outputs": [
        {
          "metadata": {
            "tags": null
          },
          "name": "stdout",
          "output_type": "stream",
          "text": [
            "======================================================================\n",
            "RETRAINING MODEL WITH IMPROVED SETTINGS\n",
            "======================================================================\n",
            "\n",
            "New Model Architecture:\n"
          ]
        },
        {
          "data": {
            "text/html": [
              "<pre style=\"white-space:pre;overflow-x:auto;line-height:normal;font-family:Menlo,'DejaVu Sans Mono',consolas,'Courier New',monospace\"><span style=\"font-weight: bold\">Model: \"sequential_1\"</span>\n",
              "</pre>\n"
            ],
            "text/plain": [
              "\u001b[1mModel: \"sequential_1\"\u001b[0m\n"
            ]
          },
          "metadata": {},
          "output_type": "display_data"
        },
        {
          "data": {
            "text/html": [
              "<pre style=\"white-space:pre;overflow-x:auto;line-height:normal;font-family:Menlo,'DejaVu Sans Mono',consolas,'Courier New',monospace\">┏━━━━━━━━━━━━━━━━━━━━━━━━━━━━━━━━━┳━━━━━━━━━━━━━━━━━━━━━━━━┳━━━━━━━━━━━━━━━┓\n",
              "┃<span style=\"font-weight: bold\"> Layer (type)                    </span>┃<span style=\"font-weight: bold\"> Output Shape           </span>┃<span style=\"font-weight: bold\">       Param # </span>┃\n",
              "┡━━━━━━━━━━━━━━━━━━━━━━━━━━━━━━━━━╇━━━━━━━━━━━━━━━━━━━━━━━━╇━━━━━━━━━━━━━━━┩\n",
              "│ embedding (<span style=\"color: #0087ff; text-decoration-color: #0087ff\">Embedding</span>)           │ ?                      │   <span style=\"color: #00af00; text-decoration-color: #00af00\">0</span> (unbuilt) │\n",
              "├─────────────────────────────────┼────────────────────────┼───────────────┤\n",
              "│ bidirectional (<span style=\"color: #0087ff; text-decoration-color: #0087ff\">Bidirectional</span>)   │ ?                      │   <span style=\"color: #00af00; text-decoration-color: #00af00\">0</span> (unbuilt) │\n",
              "├─────────────────────────────────┼────────────────────────┼───────────────┤\n",
              "│ lstm_4 (<span style=\"color: #0087ff; text-decoration-color: #0087ff\">LSTM</span>)                   │ ?                      │   <span style=\"color: #00af00; text-decoration-color: #00af00\">0</span> (unbuilt) │\n",
              "├─────────────────────────────────┼────────────────────────┼───────────────┤\n",
              "│ dense_1 (<span style=\"color: #0087ff; text-decoration-color: #0087ff\">Dense</span>)                 │ ?                      │   <span style=\"color: #00af00; text-decoration-color: #00af00\">0</span> (unbuilt) │\n",
              "├─────────────────────────────────┼────────────────────────┼───────────────┤\n",
              "│ dropout_3 (<span style=\"color: #0087ff; text-decoration-color: #0087ff\">Dropout</span>)             │ ?                      │             <span style=\"color: #00af00; text-decoration-color: #00af00\">0</span> │\n",
              "├─────────────────────────────────┼────────────────────────┼───────────────┤\n",
              "│ dense_2 (<span style=\"color: #0087ff; text-decoration-color: #0087ff\">Dense</span>)                 │ ?                      │   <span style=\"color: #00af00; text-decoration-color: #00af00\">0</span> (unbuilt) │\n",
              "├─────────────────────────────────┼────────────────────────┼───────────────┤\n",
              "│ dropout_4 (<span style=\"color: #0087ff; text-decoration-color: #0087ff\">Dropout</span>)             │ ?                      │             <span style=\"color: #00af00; text-decoration-color: #00af00\">0</span> │\n",
              "├─────────────────────────────────┼────────────────────────┼───────────────┤\n",
              "│ dense_3 (<span style=\"color: #0087ff; text-decoration-color: #0087ff\">Dense</span>)                 │ ?                      │   <span style=\"color: #00af00; text-decoration-color: #00af00\">0</span> (unbuilt) │\n",
              "└─────────────────────────────────┴────────────────────────┴───────────────┘\n",
              "</pre>\n"
            ],
            "text/plain": [
              "┏━━━━━━━━━━━━━━━━━━━━━━━━━━━━━━━━━┳━━━━━━━━━━━━━━━━━━━━━━━━┳━━━━━━━━━━━━━━━┓\n",
              "┃\u001b[1m \u001b[0m\u001b[1mLayer (type)                   \u001b[0m\u001b[1m \u001b[0m┃\u001b[1m \u001b[0m\u001b[1mOutput Shape          \u001b[0m\u001b[1m \u001b[0m┃\u001b[1m \u001b[0m\u001b[1m      Param #\u001b[0m\u001b[1m \u001b[0m┃\n",
              "┡━━━━━━━━━━━━━━━━━━━━━━━━━━━━━━━━━╇━━━━━━━━━━━━━━━━━━━━━━━━╇━━━━━━━━━━━━━━━┩\n",
              "│ embedding (\u001b[38;5;33mEmbedding\u001b[0m)           │ ?                      │   \u001b[38;5;34m0\u001b[0m (unbuilt) │\n",
              "├─────────────────────────────────┼────────────────────────┼───────────────┤\n",
              "│ bidirectional (\u001b[38;5;33mBidirectional\u001b[0m)   │ ?                      │   \u001b[38;5;34m0\u001b[0m (unbuilt) │\n",
              "├─────────────────────────────────┼────────────────────────┼───────────────┤\n",
              "│ lstm_4 (\u001b[38;5;33mLSTM\u001b[0m)                   │ ?                      │   \u001b[38;5;34m0\u001b[0m (unbuilt) │\n",
              "├─────────────────────────────────┼────────────────────────┼───────────────┤\n",
              "│ dense_1 (\u001b[38;5;33mDense\u001b[0m)                 │ ?                      │   \u001b[38;5;34m0\u001b[0m (unbuilt) │\n",
              "├─────────────────────────────────┼────────────────────────┼───────────────┤\n",
              "│ dropout_3 (\u001b[38;5;33mDropout\u001b[0m)             │ ?                      │             \u001b[38;5;34m0\u001b[0m │\n",
              "├─────────────────────────────────┼────────────────────────┼───────────────┤\n",
              "│ dense_2 (\u001b[38;5;33mDense\u001b[0m)                 │ ?                      │   \u001b[38;5;34m0\u001b[0m (unbuilt) │\n",
              "├─────────────────────────────────┼────────────────────────┼───────────────┤\n",
              "│ dropout_4 (\u001b[38;5;33mDropout\u001b[0m)             │ ?                      │             \u001b[38;5;34m0\u001b[0m │\n",
              "├─────────────────────────────────┼────────────────────────┼───────────────┤\n",
              "│ dense_3 (\u001b[38;5;33mDense\u001b[0m)                 │ ?                      │   \u001b[38;5;34m0\u001b[0m (unbuilt) │\n",
              "└─────────────────────────────────┴────────────────────────┴───────────────┘\n"
            ]
          },
          "metadata": {},
          "output_type": "display_data"
        },
        {
          "data": {
            "text/html": [
              "<pre style=\"white-space:pre;overflow-x:auto;line-height:normal;font-family:Menlo,'DejaVu Sans Mono',consolas,'Courier New',monospace\"><span style=\"font-weight: bold\"> Total params: </span><span style=\"color: #00af00; text-decoration-color: #00af00\">0</span> (0.00 B)\n",
              "</pre>\n"
            ],
            "text/plain": [
              "\u001b[1m Total params: \u001b[0m\u001b[38;5;34m0\u001b[0m (0.00 B)\n"
            ]
          },
          "metadata": {},
          "output_type": "display_data"
        },
        {
          "data": {
            "text/html": [
              "<pre style=\"white-space:pre;overflow-x:auto;line-height:normal;font-family:Menlo,'DejaVu Sans Mono',consolas,'Courier New',monospace\"><span style=\"font-weight: bold\"> Trainable params: </span><span style=\"color: #00af00; text-decoration-color: #00af00\">0</span> (0.00 B)\n",
              "</pre>\n"
            ],
            "text/plain": [
              "\u001b[1m Trainable params: \u001b[0m\u001b[38;5;34m0\u001b[0m (0.00 B)\n"
            ]
          },
          "metadata": {},
          "output_type": "display_data"
        },
        {
          "data": {
            "text/html": [
              "<pre style=\"white-space:pre;overflow-x:auto;line-height:normal;font-family:Menlo,'DejaVu Sans Mono',consolas,'Courier New',monospace\"><span style=\"font-weight: bold\"> Non-trainable params: </span><span style=\"color: #00af00; text-decoration-color: #00af00\">0</span> (0.00 B)\n",
              "</pre>\n"
            ],
            "text/plain": [
              "\u001b[1m Non-trainable params: \u001b[0m\u001b[38;5;34m0\u001b[0m (0.00 B)\n"
            ]
          },
          "metadata": {},
          "output_type": "display_data"
        },
        {
          "output_type": "stream",
          "name": "stdout",
          "text": [
            "\n",
            "Training improved model...\n",
            "Epoch 1/15\n",
            "\u001b[1m55/55\u001b[0m \u001b[32m━━━━━━━━━━━━━━━━━━━━\u001b[0m\u001b[37m\u001b[0m \u001b[1m170s\u001b[0m 3s/step - accuracy: 0.4960 - loss: 0.6935 - val_accuracy: 0.5045 - val_loss: 0.6931 - learning_rate: 5.0000e-04\n",
            "Epoch 2/15\n",
            "\u001b[1m55/55\u001b[0m \u001b[32m━━━━━━━━━━━━━━━━━━━━\u001b[0m\u001b[37m\u001b[0m \u001b[1m157s\u001b[0m 3s/step - accuracy: 0.5051 - loss: 0.6931 - val_accuracy: 0.5048 - val_loss: 0.6930 - learning_rate: 5.0000e-04\n",
            "Epoch 3/15\n",
            "\u001b[1m55/55\u001b[0m \u001b[32m━━━━━━━━━━━━━━━━━━━━\u001b[0m\u001b[37m\u001b[0m \u001b[1m202s\u001b[0m 3s/step - accuracy: 0.5000 - loss: 0.6929 - val_accuracy: 0.5052 - val_loss: 0.6926 - learning_rate: 5.0000e-04\n",
            "Epoch 4/15\n",
            "\u001b[1m55/55\u001b[0m \u001b[32m━━━━━━━━━━━━━━━━━━━━\u001b[0m\u001b[37m\u001b[0m \u001b[1m156s\u001b[0m 3s/step - accuracy: 0.5084 - loss: 0.6904 - val_accuracy: 0.5130 - val_loss: 0.6925 - learning_rate: 5.0000e-04\n",
            "Epoch 5/15\n",
            "\u001b[1m55/55\u001b[0m \u001b[32m━━━━━━━━━━━━━━━━━━━━\u001b[0m\u001b[37m\u001b[0m \u001b[1m157s\u001b[0m 3s/step - accuracy: 0.5198 - loss: 0.6776 - val_accuracy: 0.5128 - val_loss: 0.6936 - learning_rate: 5.0000e-04\n",
            "Epoch 6/15\n",
            "\u001b[1m55/55\u001b[0m \u001b[32m━━━━━━━━━━━━━━━━━━━━\u001b[0m\u001b[37m\u001b[0m \u001b[1m0s\u001b[0m 3s/step - accuracy: 0.5277 - loss: 0.6759\n",
            "Epoch 6: ReduceLROnPlateau reducing learning rate to 0.0002500000118743628.\n",
            "\u001b[1m55/55\u001b[0m \u001b[32m━━━━━━━━━━━━━━━━━━━━\u001b[0m\u001b[37m\u001b[0m \u001b[1m157s\u001b[0m 3s/step - accuracy: 0.5277 - loss: 0.6759 - val_accuracy: 0.5066 - val_loss: 0.6927 - learning_rate: 5.0000e-04\n",
            "Epoch 7/15\n",
            "\u001b[1m55/55\u001b[0m \u001b[32m━━━━━━━━━━━━━━━━━━━━\u001b[0m\u001b[37m\u001b[0m \u001b[1m157s\u001b[0m 3s/step - accuracy: 0.5255 - loss: 0.6763 - val_accuracy: 0.5099 - val_loss: 0.7257 - learning_rate: 2.5000e-04\n",
            "Epoch 7: early stopping\n",
            "Restoring model weights from the end of the best epoch: 4.\n",
            "\n",
            "Evaluating improved model...\n",
            "\u001b[1m313/313\u001b[0m \u001b[32m━━━━━━━━━━━━━━━━━━━━\u001b[0m\u001b[37m\u001b[0m \u001b[1m151s\u001b[0m 481ms/step - accuracy: 0.5127 - loss: 0.6893\n",
            "\n",
            "Improved Model Results:\n",
            "  Test Accuracy: 0.5125\n",
            "  Test Loss: 0.6920\n"
          ]
        }
      ]
    },
    {
      "cell_type": "markdown",
      "source": [
        "CNN\n"
      ],
      "metadata": {
        "id": "PjH629DplxC5"
      }
    },
    {
      "cell_type": "code",
      "source": [
        "# ============================================================================\n",
        "# PURE CNN MODEL (Usually BEST for sentiment analysis!)\n",
        "# ============================================================================\n",
        "\n",
        "print(\"\\n\" + \"=\"*70)\n",
        "print(\"TRAINING CNN MODEL\")\n",
        "print(\"=\"*70)\n",
        "\n",
        "# Build CNN model\n",
        "cnn_model = Sequential([\n",
        "    Embedding(input_dim=15000, output_dim=128, input_length=max_tokens),\n",
        "\n",
        "    # Multiple CNN layers with different kernel sizes\n",
        "    Conv1D(filters=256, kernel_size=3, activation='relu', padding='same'),\n",
        "    GlobalMaxPooling1D(),\n",
        "\n",
        "    Dense(256, activation='relu'),\n",
        "    Dropout(0.5),\n",
        "    Dense(128, activation='relu'),\n",
        "    Dropout(0.5),\n",
        "    Dense(1, activation='sigmoid')\n",
        "])\n",
        "\n",
        "# Compile\n",
        "optimizer = Adam(learning_rate=0.001)\n",
        "cnn_model.compile(loss='binary_crossentropy', optimizer=optimizer, metrics=['accuracy'])\n",
        "\n",
        "print(\"\\nCNN Model Architecture:\")\n",
        "cnn_model.summary()\n",
        "\n",
        "# Train\n",
        "history_cnn = cnn_model.fit(\n",
        "    x_train_pad, y_train,\n",
        "    validation_split=0.3,\n",
        "    epochs=10,\n",
        "    batch_size=256,\n",
        "    verbose=1\n",
        ")\n",
        "\n",
        "# Evaluate\n",
        "test_loss_cnn_pure, test_acc_cnn_pure = cnn_model.evaluate(x_test_pad, y_test, verbose=1)\n",
        "print(f\"\\nCNN Results:\")\n",
        "print(f\"  Test Accuracy: {test_acc_cnn_pure:.4f}\")\n",
        "print(f\"  Test Loss: {test_loss_cnn_pure:.4f}\")"
      ],
      "metadata": {
        "colab": {
          "base_uri": "https://localhost:8080/",
          "height": 983
        },
        "id": "rH2aybCGlwm8",
        "outputId": "c4dee6c4-6f0e-4767-d384-a6d2abf7fe08"
      },
      "execution_count": 48,
      "outputs": [
        {
          "metadata": {
            "tags": null
          },
          "name": "stdout",
          "output_type": "stream",
          "text": [
            "\n",
            "======================================================================\n",
            "TRAINING CNN MODEL\n",
            "======================================================================\n",
            "\n",
            "CNN Model Architecture:\n"
          ]
        },
        {
          "data": {
            "text/html": [
              "<pre style=\"white-space:pre;overflow-x:auto;line-height:normal;font-family:Menlo,'DejaVu Sans Mono',consolas,'Courier New',monospace\"><span style=\"font-weight: bold\">Model: \"sequential_2\"</span>\n",
              "</pre>\n"
            ],
            "text/plain": [
              "\u001b[1mModel: \"sequential_2\"\u001b[0m\n"
            ]
          },
          "metadata": {},
          "output_type": "display_data"
        },
        {
          "data": {
            "text/html": [
              "<pre style=\"white-space:pre;overflow-x:auto;line-height:normal;font-family:Menlo,'DejaVu Sans Mono',consolas,'Courier New',monospace\">┏━━━━━━━━━━━━━━━━━━━━━━━━━━━━━━━━━┳━━━━━━━━━━━━━━━━━━━━━━━━┳━━━━━━━━━━━━━━━┓\n",
              "┃<span style=\"font-weight: bold\"> Layer (type)                    </span>┃<span style=\"font-weight: bold\"> Output Shape           </span>┃<span style=\"font-weight: bold\">       Param # </span>┃\n",
              "┡━━━━━━━━━━━━━━━━━━━━━━━━━━━━━━━━━╇━━━━━━━━━━━━━━━━━━━━━━━━╇━━━━━━━━━━━━━━━┩\n",
              "│ embedding (<span style=\"color: #0087ff; text-decoration-color: #0087ff\">Embedding</span>)           │ ?                      │   <span style=\"color: #00af00; text-decoration-color: #00af00\">0</span> (unbuilt) │\n",
              "├─────────────────────────────────┼────────────────────────┼───────────────┤\n",
              "│ conv1d (<span style=\"color: #0087ff; text-decoration-color: #0087ff\">Conv1D</span>)                 │ ?                      │   <span style=\"color: #00af00; text-decoration-color: #00af00\">0</span> (unbuilt) │\n",
              "├─────────────────────────────────┼────────────────────────┼───────────────┤\n",
              "│ global_max_pooling1d            │ ?                      │             <span style=\"color: #00af00; text-decoration-color: #00af00\">0</span> │\n",
              "│ (<span style=\"color: #0087ff; text-decoration-color: #0087ff\">GlobalMaxPooling1D</span>)            │                        │               │\n",
              "├─────────────────────────────────┼────────────────────────┼───────────────┤\n",
              "│ dense_4 (<span style=\"color: #0087ff; text-decoration-color: #0087ff\">Dense</span>)                 │ ?                      │   <span style=\"color: #00af00; text-decoration-color: #00af00\">0</span> (unbuilt) │\n",
              "├─────────────────────────────────┼────────────────────────┼───────────────┤\n",
              "│ dropout_5 (<span style=\"color: #0087ff; text-decoration-color: #0087ff\">Dropout</span>)             │ ?                      │             <span style=\"color: #00af00; text-decoration-color: #00af00\">0</span> │\n",
              "├─────────────────────────────────┼────────────────────────┼───────────────┤\n",
              "│ dense_5 (<span style=\"color: #0087ff; text-decoration-color: #0087ff\">Dense</span>)                 │ ?                      │   <span style=\"color: #00af00; text-decoration-color: #00af00\">0</span> (unbuilt) │\n",
              "├─────────────────────────────────┼────────────────────────┼───────────────┤\n",
              "│ dropout_6 (<span style=\"color: #0087ff; text-decoration-color: #0087ff\">Dropout</span>)             │ ?                      │             <span style=\"color: #00af00; text-decoration-color: #00af00\">0</span> │\n",
              "├─────────────────────────────────┼────────────────────────┼───────────────┤\n",
              "│ dense_6 (<span style=\"color: #0087ff; text-decoration-color: #0087ff\">Dense</span>)                 │ ?                      │   <span style=\"color: #00af00; text-decoration-color: #00af00\">0</span> (unbuilt) │\n",
              "└─────────────────────────────────┴────────────────────────┴───────────────┘\n",
              "</pre>\n"
            ],
            "text/plain": [
              "┏━━━━━━━━━━━━━━━━━━━━━━━━━━━━━━━━━┳━━━━━━━━━━━━━━━━━━━━━━━━┳━━━━━━━━━━━━━━━┓\n",
              "┃\u001b[1m \u001b[0m\u001b[1mLayer (type)                   \u001b[0m\u001b[1m \u001b[0m┃\u001b[1m \u001b[0m\u001b[1mOutput Shape          \u001b[0m\u001b[1m \u001b[0m┃\u001b[1m \u001b[0m\u001b[1m      Param #\u001b[0m\u001b[1m \u001b[0m┃\n",
              "┡━━━━━━━━━━━━━━━━━━━━━━━━━━━━━━━━━╇━━━━━━━━━━━━━━━━━━━━━━━━╇━━━━━━━━━━━━━━━┩\n",
              "│ embedding (\u001b[38;5;33mEmbedding\u001b[0m)           │ ?                      │   \u001b[38;5;34m0\u001b[0m (unbuilt) │\n",
              "├─────────────────────────────────┼────────────────────────┼───────────────┤\n",
              "│ conv1d (\u001b[38;5;33mConv1D\u001b[0m)                 │ ?                      │   \u001b[38;5;34m0\u001b[0m (unbuilt) │\n",
              "├─────────────────────────────────┼────────────────────────┼───────────────┤\n",
              "│ global_max_pooling1d            │ ?                      │             \u001b[38;5;34m0\u001b[0m │\n",
              "│ (\u001b[38;5;33mGlobalMaxPooling1D\u001b[0m)            │                        │               │\n",
              "├─────────────────────────────────┼────────────────────────┼───────────────┤\n",
              "│ dense_4 (\u001b[38;5;33mDense\u001b[0m)                 │ ?                      │   \u001b[38;5;34m0\u001b[0m (unbuilt) │\n",
              "├─────────────────────────────────┼────────────────────────┼───────────────┤\n",
              "│ dropout_5 (\u001b[38;5;33mDropout\u001b[0m)             │ ?                      │             \u001b[38;5;34m0\u001b[0m │\n",
              "├─────────────────────────────────┼────────────────────────┼───────────────┤\n",
              "│ dense_5 (\u001b[38;5;33mDense\u001b[0m)                 │ ?                      │   \u001b[38;5;34m0\u001b[0m (unbuilt) │\n",
              "├─────────────────────────────────┼────────────────────────┼───────────────┤\n",
              "│ dropout_6 (\u001b[38;5;33mDropout\u001b[0m)             │ ?                      │             \u001b[38;5;34m0\u001b[0m │\n",
              "├─────────────────────────────────┼────────────────────────┼───────────────┤\n",
              "│ dense_6 (\u001b[38;5;33mDense\u001b[0m)                 │ ?                      │   \u001b[38;5;34m0\u001b[0m (unbuilt) │\n",
              "└─────────────────────────────────┴────────────────────────┴───────────────┘\n"
            ]
          },
          "metadata": {},
          "output_type": "display_data"
        },
        {
          "data": {
            "text/html": [
              "<pre style=\"white-space:pre;overflow-x:auto;line-height:normal;font-family:Menlo,'DejaVu Sans Mono',consolas,'Courier New',monospace\"><span style=\"font-weight: bold\"> Total params: </span><span style=\"color: #00af00; text-decoration-color: #00af00\">0</span> (0.00 B)\n",
              "</pre>\n"
            ],
            "text/plain": [
              "\u001b[1m Total params: \u001b[0m\u001b[38;5;34m0\u001b[0m (0.00 B)\n"
            ]
          },
          "metadata": {},
          "output_type": "display_data"
        },
        {
          "data": {
            "text/html": [
              "<pre style=\"white-space:pre;overflow-x:auto;line-height:normal;font-family:Menlo,'DejaVu Sans Mono',consolas,'Courier New',monospace\"><span style=\"font-weight: bold\"> Trainable params: </span><span style=\"color: #00af00; text-decoration-color: #00af00\">0</span> (0.00 B)\n",
              "</pre>\n"
            ],
            "text/plain": [
              "\u001b[1m Trainable params: \u001b[0m\u001b[38;5;34m0\u001b[0m (0.00 B)\n"
            ]
          },
          "metadata": {},
          "output_type": "display_data"
        },
        {
          "data": {
            "text/html": [
              "<pre style=\"white-space:pre;overflow-x:auto;line-height:normal;font-family:Menlo,'DejaVu Sans Mono',consolas,'Courier New',monospace\"><span style=\"font-weight: bold\"> Non-trainable params: </span><span style=\"color: #00af00; text-decoration-color: #00af00\">0</span> (0.00 B)\n",
              "</pre>\n"
            ],
            "text/plain": [
              "\u001b[1m Non-trainable params: \u001b[0m\u001b[38;5;34m0\u001b[0m (0.00 B)\n"
            ]
          },
          "metadata": {},
          "output_type": "display_data"
        },
        {
          "metadata": {
            "tags": null
          },
          "name": "stdout",
          "output_type": "stream",
          "text": [
            "Epoch 1/10\n",
            "\u001b[1m110/110\u001b[0m \u001b[32m━━━━━━━━━━━━━━━━━━━━\u001b[0m\u001b[37m\u001b[0m \u001b[1m14s\u001b[0m 66ms/step - accuracy: 0.5910 - loss: 0.6384 - val_accuracy: 0.8593 - val_loss: 0.3243\n",
            "Epoch 2/10\n",
            "\u001b[1m110/110\u001b[0m \u001b[32m━━━━━━━━━━━━━━━━━━━━\u001b[0m\u001b[37m\u001b[0m \u001b[1m4s\u001b[0m 32ms/step - accuracy: 0.9009 - loss: 0.2559 - val_accuracy: 0.8867 - val_loss: 0.2719\n",
            "Epoch 3/10\n",
            "\u001b[1m110/110\u001b[0m \u001b[32m━━━━━━━━━━━━━━━━━━━━\u001b[0m\u001b[37m\u001b[0m \u001b[1m4s\u001b[0m 33ms/step - accuracy: 0.9750 - loss: 0.0935 - val_accuracy: 0.8749 - val_loss: 0.3500\n",
            "Epoch 4/10\n",
            "\u001b[1m110/110\u001b[0m \u001b[32m━━━━━━━━━━━━━━━━━━━━\u001b[0m\u001b[37m\u001b[0m \u001b[1m3s\u001b[0m 31ms/step - accuracy: 0.9958 - loss: 0.0226 - val_accuracy: 0.8842 - val_loss: 0.4133\n",
            "Epoch 5/10\n",
            "\u001b[1m110/110\u001b[0m \u001b[32m━━━━━━━━━━━━━━━━━━━━\u001b[0m\u001b[37m\u001b[0m \u001b[1m3s\u001b[0m 31ms/step - accuracy: 0.9995 - loss: 0.0043 - val_accuracy: 0.8852 - val_loss: 0.5090\n",
            "Epoch 6/10\n",
            "\u001b[1m110/110\u001b[0m \u001b[32m━━━━━━━━━━━━━━━━━━━━\u001b[0m\u001b[37m\u001b[0m \u001b[1m4s\u001b[0m 32ms/step - accuracy: 0.9996 - loss: 0.0021 - val_accuracy: 0.8827 - val_loss: 0.5828\n",
            "Epoch 7/10\n",
            "\u001b[1m110/110\u001b[0m \u001b[32m━━━━━━━━━━━━━━━━━━━━\u001b[0m\u001b[37m\u001b[0m \u001b[1m4s\u001b[0m 32ms/step - accuracy: 0.9999 - loss: 0.0010 - val_accuracy: 0.8835 - val_loss: 0.6273\n",
            "Epoch 8/10\n",
            "\u001b[1m110/110\u001b[0m \u001b[32m━━━━━━━━━━━━━━━━━━━━\u001b[0m\u001b[37m\u001b[0m \u001b[1m3s\u001b[0m 31ms/step - accuracy: 1.0000 - loss: 4.9138e-04 - val_accuracy: 0.8868 - val_loss: 0.6536\n",
            "Epoch 9/10\n",
            "\u001b[1m110/110\u001b[0m \u001b[32m━━━━━━━━━━━━━━━━━━━━\u001b[0m\u001b[37m\u001b[0m \u001b[1m3s\u001b[0m 31ms/step - accuracy: 1.0000 - loss: 2.1921e-04 - val_accuracy: 0.8864 - val_loss: 0.6862\n",
            "Epoch 10/10\n",
            "\u001b[1m110/110\u001b[0m \u001b[32m━━━━━━━━━━━━━━━━━━━━\u001b[0m\u001b[37m\u001b[0m \u001b[1m4s\u001b[0m 33ms/step - accuracy: 1.0000 - loss: 1.2022e-04 - val_accuracy: 0.8871 - val_loss: 0.7063\n",
            "\u001b[1m313/313\u001b[0m \u001b[32m━━━━━━━━━━━━━━━━━━━━\u001b[0m\u001b[37m\u001b[0m \u001b[1m2s\u001b[0m 4ms/step - accuracy: 0.8851 - loss: 0.7033\n",
            "\n",
            "CNN Results:\n",
            "  Test Accuracy: 0.8895\n",
            "  Test Loss: 0.6743\n"
          ]
        }
      ]
    },
    {
      "cell_type": "code",
      "source": [
        "print(\"Evaluating on test set...\\n\")\n",
        "test_loss, test_accuracy = cnn_model.evaluate(x_test_pad, y_test, verbose=1)\n",
        "\n",
        "print(f\"\\n{'='*60}\")\n",
        "print(f\"Test Loss: {test_loss:.4f}\")\n",
        "print(f\"Test Accuracy: {test_accuracy:.4f}\")\n",
        "print(f\"{'='*60}\")"
      ],
      "metadata": {
        "colab": {
          "base_uri": "https://localhost:8080/"
        },
        "id": "ti3lFbJLlwdC",
        "outputId": "543b2748-f9a2-40a3-b3cc-779ce7d4c6ef"
      },
      "execution_count": 49,
      "outputs": [
        {
          "metadata": {
            "tags": null
          },
          "name": "stdout",
          "output_type": "stream",
          "text": [
            "Evaluating on test set...\n",
            "\n",
            "\u001b[1m313/313\u001b[0m \u001b[32m━━━━━━━━━━━━━━━━━━━━\u001b[0m\u001b[37m\u001b[0m \u001b[1m1s\u001b[0m 2ms/step - accuracy: 0.8851 - loss: 0.7033\n",
            "\n",
            "============================================================\n",
            "Test Loss: 0.6743\n",
            "Test Accuracy: 0.8895\n",
            "============================================================\n"
          ]
        }
      ]
    },
    {
      "cell_type": "code",
      "source": [
        "# Test with custom examples\n",
        "test_reviews = [\n",
        "    \"This movie was absolutely fantastic! I loved every moment of it.\",\n",
        "    \"Terrible film, complete waste of time and money.\",\n",
        "    \"The acting was great but the plot was confusing.\",\n",
        "    \"One of the best movies I've ever seen! Highly recommended.\",\n",
        "    \"Boring and predictable. Would not watch again.\"\n",
        "]\n",
        "\n",
        "print(\"Testing with custom reviews:\\n\")\n",
        "print(\"=\"*70)\n",
        "\n",
        "for review in test_reviews:\n",
        "    # Preprocess\n",
        "    processed = denoise_text(review)\n",
        "    processed = re.sub(r'[,\\.!?:()\"\\']', '', processed) # Fixed: Escaped special characters\n",
        "    processed = re.sub(r'[^a-zA-Z\\s]', ' ', processed)\n",
        "    processed = processed.lower().strip()\n",
        "    processed = re.sub(r'\\s+', ' ', processed)\n",
        "    processed = remove_stopwords(processed)\n",
        "\n",
        "    # Tokenize and pad\n",
        "    seq = tokenizer.texts_to_sequences([processed])\n",
        "    padded = pad_sequences(seq, maxlen=max_tokens, padding='post', truncating='post')\n",
        "\n",
        "    # Predict\n",
        "    prob = cnn_model.predict(padded, verbose=0)[0][0]\n",
        "    sentiment = \"Positive 😊\" if prob >= 0.5 else \"Negative 😞\"\n",
        "\n",
        "    print(f\"Review: {review[:60]}...\")\n",
        "    print(f\"Prediction: {sentiment} (confidence: {prob:.4f})\")\n",
        "    print(\"-\"*70)"
      ],
      "metadata": {
        "colab": {
          "base_uri": "https://localhost:8080/"
        },
        "id": "MMkw50J8oNMm",
        "outputId": "1b6b004a-547b-4c6b-9543-c824a67ae99c"
      },
      "execution_count": 50,
      "outputs": [
        {
          "metadata": {
            "tags": null
          },
          "name": "stdout",
          "output_type": "stream",
          "text": [
            "Testing with custom reviews:\n",
            "\n",
            "======================================================================\n",
            "Review: This movie was absolutely fantastic! I loved every moment of...\n",
            "Prediction: Positive 😊 (confidence: 1.0000)\n",
            "----------------------------------------------------------------------\n",
            "Review: Terrible film, complete waste of time and money....\n",
            "Prediction: Negative 😞 (confidence: 0.0000)\n",
            "----------------------------------------------------------------------\n",
            "Review: The acting was great but the plot was confusing....\n",
            "Prediction: Negative 😞 (confidence: 0.0015)\n",
            "----------------------------------------------------------------------\n",
            "Review: One of the best movies I've ever seen! Highly recommended....\n",
            "Prediction: Positive 😊 (confidence: 1.0000)\n",
            "----------------------------------------------------------------------\n",
            "Review: Boring and predictable. Would not watch again....\n",
            "Prediction: Negative 😞 (confidence: 0.0000)\n",
            "----------------------------------------------------------------------\n"
          ]
        }
      ]
    },
    {
      "cell_type": "code",
      "source": [
        "# Generate predictions\n",
        "y_pred_probs = cnn_model.predict(x_test_pad, verbose=0)\n",
        "y_pred = (y_pred_probs >= 0.5).astype(int).flatten()\n",
        "\n",
        "print(f\"Predictions generated: {len(y_pred)}\")\n",
        "print(f\"Positive predictions: {y_pred.sum()}\")\n",
        "print(f\"Negative predictions: {len(y_pred) - y_pred.sum()}\")"
      ],
      "metadata": {
        "colab": {
          "base_uri": "https://localhost:8080/"
        },
        "id": "rUNCCeF5q6NH",
        "outputId": "dc657562-9979-4eae-83ed-7134d1816dc8"
      },
      "execution_count": 51,
      "outputs": [
        {
          "metadata": {
            "tags": null
          },
          "name": "stdout",
          "output_type": "stream",
          "text": [
            "Predictions generated: 10000\n",
            "Positive predictions: 5007\n",
            "Negative predictions: 4993\n"
          ]
        }
      ]
    },
    {
      "cell_type": "code",
      "source": [
        "# Confusion Matrix\n",
        "cm = confusion_matrix(y_test, y_pred)\n",
        "\n",
        "print(\"\\nConfusion Matrix:\")\n",
        "print(cm)\n",
        "print(\"\\n[TN  FP]\")\n",
        "print(\"[FN  TP]\")"
      ],
      "metadata": {
        "colab": {
          "base_uri": "https://localhost:8080/"
        },
        "id": "l6uBCdpLqjuR",
        "outputId": "140c3823-7bb3-4b06-bf07-9bc57ec44fc3"
      },
      "execution_count": 52,
      "outputs": [
        {
          "metadata": {
            "tags": null
          },
          "name": "stdout",
          "output_type": "stream",
          "text": [
            "\n",
            "Confusion Matrix:\n",
            "[[4444  556]\n",
            " [ 549 4451]]\n",
            "\n",
            "[TN  FP]\n",
            "[FN  TP]\n"
          ]
        }
      ]
    },
    {
      "cell_type": "code",
      "source": [
        "# Classification Report\n",
        "print(\"\\nClassification Report:\")\n",
        "print(\"=\"*60)\n",
        "print(classification_report(y_test, y_pred, target_names=['Negative', 'Positive']))"
      ],
      "metadata": {
        "colab": {
          "base_uri": "https://localhost:8080/"
        },
        "id": "sEFOtMp5qjnO",
        "outputId": "31b3297c-3cc3-4694-dc5d-dfedb2d5989b"
      },
      "execution_count": 53,
      "outputs": [
        {
          "metadata": {
            "tags": null
          },
          "name": "stdout",
          "output_type": "stream",
          "text": [
            "\n",
            "Classification Report:\n",
            "============================================================\n",
            "              precision    recall  f1-score   support\n",
            "\n",
            "    Negative       0.89      0.89      0.89      5000\n",
            "    Positive       0.89      0.89      0.89      5000\n",
            "\n",
            "    accuracy                           0.89     10000\n",
            "   macro avg       0.89      0.89      0.89     10000\n",
            "weighted avg       0.89      0.89      0.89     10000\n",
            "\n"
          ]
        }
      ]
    },
    {
      "cell_type": "code",
      "source": [
        "# ============================================================================\n",
        "# COMPLETE EVALUATION & CONFUSION MATRIX\n",
        "# ============================================================================\n",
        "\n",
        "from sklearn.metrics import confusion_matrix, classification_report, roc_curve, auc\n",
        "\n",
        "# Generate predictions\n",
        "print(\"\\nGenerating predictions...\")\n",
        "y_pred_probs = cnn_model.predict(x_test_pad, verbose=0)\n",
        "y_pred = (y_pred_probs >= 0.5).astype(int).flatten()\n",
        "\n",
        "# Confusion Matrix\n",
        "cm = confusion_matrix(y_test, y_pred)\n",
        "\n",
        "print(\"\\n\" + \"=\"*60)\n",
        "print(\"CONFUSION MATRIX - CNN MODEL\")\n",
        "print(\"=\"*60)\n",
        "print(cm)\n",
        "print(\"\\n       Predicted\")\n",
        "print(\"       Neg    Pos\")\n",
        "print(f\"Neg  [{cm[0,0]:5d}  {cm[0,1]:5d}]\")\n",
        "print(f\"Pos  [{cm[1,0]:5d}  {cm[1,1]:5d}]\")\n",
        "\n",
        "# Classification Report\n",
        "print(\"\\n\" + \"=\"*60)\n",
        "print(\"CLASSIFICATION REPORT\")\n",
        "print(\"=\"*60)\n",
        "print(classification_report(y_test, y_pred, target_names=['Negative', 'Positive']))\n",
        "\n",
        "# Detailed Metrics\n",
        "tn, fp, fn, tp = cm.ravel()\n",
        "accuracy = (tp + tn) / (tp + tn + fp + fn)\n",
        "precision = tp / (tp + fp)\n",
        "recall = tp / (tp + fn)\n",
        "f1 = 2 * tp / (2 * tp + fp + fn)\n",
        "specificity = tn / (tn + fp)\n",
        "\n",
        "print(\"\\n\" + \"=\"*60)\n",
        "print(\"DETAILED METRICS\")\n",
        "print(\"=\"*60)\n",
        "print(f\"True Negatives:  {tn:5d}\")\n",
        "print(f\"False Positives: {fp:5d}\")\n",
        "print(f\"False Negatives: {fn:5d}\")\n",
        "print(f\"True Positives:  {tp:5d}\")\n",
        "print(f\"\\nAccuracy:    {accuracy:.4f}\")\n",
        "print(f\"Precision:   {precision:.4f}\")\n",
        "print(f\"Recall:      {recall:.4f}\")\n",
        "print(f\"Specificity: {specificity:.4f}\")\n",
        "print(f\"F1-Score:    {f1:.4f}\")\n",
        "\n",
        "# ROC-AUC\n",
        "fpr, tpr, _ = roc_curve(y_test, y_pred_probs)\n",
        "roc_auc = auc(fpr, tpr)\n",
        "print(f\"ROC-AUC:     {roc_auc:.4f}\")\n",
        "print(\"=\"*60)"
      ],
      "metadata": {
        "colab": {
          "base_uri": "https://localhost:8080/"
        },
        "id": "-Mv6fZmw-hDc",
        "outputId": "6ce65a97-0fae-4a7c-d5ea-17fc4873b4ee"
      },
      "execution_count": 54,
      "outputs": [
        {
          "metadata": {
            "tags": null
          },
          "name": "stdout",
          "output_type": "stream",
          "text": [
            "\n",
            "Generating predictions...\n",
            "\n",
            "============================================================\n",
            "CONFUSION MATRIX - CNN MODEL\n",
            "============================================================\n",
            "[[4444  556]\n",
            " [ 549 4451]]\n",
            "\n",
            "       Predicted\n",
            "       Neg    Pos\n",
            "Neg  [ 4444    556]\n",
            "Pos  [  549   4451]\n",
            "\n",
            "============================================================\n",
            "CLASSIFICATION REPORT\n",
            "============================================================\n",
            "              precision    recall  f1-score   support\n",
            "\n",
            "    Negative       0.89      0.89      0.89      5000\n",
            "    Positive       0.89      0.89      0.89      5000\n",
            "\n",
            "    accuracy                           0.89     10000\n",
            "   macro avg       0.89      0.89      0.89     10000\n",
            "weighted avg       0.89      0.89      0.89     10000\n",
            "\n",
            "\n",
            "============================================================\n",
            "DETAILED METRICS\n",
            "============================================================\n",
            "True Negatives:   4444\n",
            "False Positives:   556\n",
            "False Negatives:   549\n",
            "True Positives:   4451\n",
            "\n",
            "Accuracy:    0.8895\n",
            "Precision:   0.8890\n",
            "Recall:      0.8902\n",
            "Specificity: 0.8888\n",
            "F1-Score:    0.8896\n",
            "ROC-AUC:     0.9577\n",
            "============================================================\n"
          ]
        }
      ]
    },
    {
      "cell_type": "code",
      "source": [
        "# ============================================================================\n",
        "# VISUALIZATIONS\n",
        "# ============================================================================\n",
        "\n",
        "fig, axes = plt.subplots(2, 2, figsize=(16, 12))\n",
        "\n",
        "# 1. Confusion Matrix\n",
        "sns.heatmap(cm, annot=True, fmt='d', cmap='Blues', ax=axes[0, 0],\n",
        "            xticklabels=['Negative', 'Positive'],\n",
        "            yticklabels=['Negative', 'Positive'],\n",
        "            linewidths=3, linecolor='white',\n",
        "            annot_kws={'size': 18, 'weight': 'bold'},\n",
        "            cbar_kws={'label': 'Count'})\n",
        "axes[0, 0].set_title('Confusion Matrix', fontsize=16, fontweight='bold', pad=15)\n",
        "axes[0, 0].set_ylabel('True Label', fontsize=12, fontweight='bold')\n",
        "axes[0, 0].set_xlabel('Predicted Label', fontsize=12, fontweight='bold')\n",
        "\n",
        "# 2. Training History - Accuracy\n",
        "axes[0, 1].plot(history_cnn.history['accuracy'], label='Training', linewidth=2, marker='o')\n",
        "axes[0, 1].plot(history_cnn.history['val_accuracy'], label='Validation', linewidth=2, marker='s')\n",
        "axes[0, 1].set_title('Model Accuracy', fontsize=16, fontweight='bold')\n",
        "axes[0, 1].set_xlabel('Epoch', fontsize=12)\n",
        "axes[0, 1].set_ylabel('Accuracy', fontsize=12)\n",
        "axes[0, 1].legend(loc='lower right', fontsize=10)\n",
        "axes[0, 1].grid(alpha=0.3)\n",
        "\n",
        "# 3. ROC Curve\n",
        "axes[1, 0].plot(fpr, tpr, color='darkorange', lw=2, label=f'ROC (AUC = {roc_auc:.4f})')\n",
        "axes[1, 0].plot([0, 1], [0, 1], color='navy', lw=2, linestyle='--', label='Random')\n",
        "axes[1, 0].set_xlim([0.0, 1.0])\n",
        "axes[1, 0].set_ylim([0.0, 1.05])\n",
        "axes[1, 0].set_xlabel('False Positive Rate', fontsize=12, fontweight='bold')\n",
        "axes[1, 0].set_ylabel('True Positive Rate', fontsize=12, fontweight='bold')\n",
        "axes[1, 0].set_title('ROC Curve', fontsize=16, fontweight='bold')\n",
        "axes[1, 0].legend(loc=\"lower right\", fontsize=10)\n",
        "axes[1, 0].grid(alpha=0.3)\n",
        "\n",
        "# 4. Prediction Distribution\n",
        "axes[1, 1].hist(y_pred_probs, bins=50, alpha=0.7, color='skyblue', edgecolor='black')\n",
        "axes[1, 1].axvline(x=0.5, color='red', linestyle='--', linewidth=2, label='Threshold=0.5')\n",
        "axes[1, 1].set_title('Prediction Distribution', fontsize=16, fontweight='bold')\n",
        "axes[1, 1].set_xlabel('Predicted Probability', fontsize=12)\n",
        "axes[1, 1].set_ylabel('Frequency', fontsize=12)\n",
        "axes[1, 1].legend(fontsize=10)\n",
        "axes[1, 1].grid(alpha=0.3)\n",
        "\n",
        "plt.tight_layout()\n",
        "plt.savefig('results/cnn_model_evaluation.png', dpi=300, bbox_inches='tight')\n",
        "print(\"\\n✓ Evaluation plot saved: results/cnn_model_evaluation.png\")\n",
        "plt.show()"
      ],
      "metadata": {
        "colab": {
          "base_uri": "https://localhost:8080/",
          "height": 685
        },
        "id": "O1AJC8L3-g7d",
        "outputId": "5deb8ed3-1498-41de-a837-e4e2bd7ca34c"
      },
      "execution_count": 55,
      "outputs": [
        {
          "metadata": {
            "tags": null
          },
          "name": "stdout",
          "output_type": "stream",
          "text": [
            "\n",
            "✓ Evaluation plot saved: results/cnn_model_evaluation.png\n"
          ]
        },
        {
          "data": {
            "image/png": "[encoded data removed]",
            "text/plain": [
              "<Figure size 1600x1200 with 5 Axes>"
            ]
          },
          "metadata": {},
          "output_type": "display_data"
        }
      ]
    },
    {
      "cell_type": "code",
      "source": [
        "# ============================================================================\n",
        "# SAVE CNN MODEL PACKAGE FOR DEPLOYMENT\n",
        "# ============================================================================\n",
        "\n",
        "print(\"=\"*70)\n",
        "print(\"SAVING CNN MODEL PACKAGE\")\n",
        "print(\"=\"*70)\n",
        "\n",
        "import pickle\n",
        "\n",
        "# Create model package (similar to your original format)\n",
        "cnn_model_package = {\n",
        "    \"model\": cnn_model,  # Your trained CNN model\n",
        "    \"tokenizer\": tokenizer,\n",
        "    \"max_tokens\": max_tokens,\n",
        "    \"threshold\": 0.5,\n",
        "    \"model_type\": \"cnn_keras\",\n",
        "    \"embedding_size\": 128,\n",
        "    \"vocab_size\": 15000\n",
        "}\n",
        "\n",
        "# Save as .pkl file\n",
        "with open('models/cnn_model_package.pkl', 'wb') as f:\n",
        "    pickle.dump(cnn_model_package, f)\n",
        "\n",
        "print(\"✓ Model package saved: models/cnn_model_package.pkl\")\n",
        "\n",
        "# Also save separately\n",
        "cnn_model.save('models/cnn_model.keras')\n",
        "print(\"✓ Model saved: models/cnn_model.keras\")\n",
        "\n",
        "with open('models/tokenizer.pkl', 'wb') as f:\n",
        "    pickle.dump(tokenizer, f)\n",
        "print(\"✓ Tokenizer saved: models/tokenizer.pkl\")\n",
        "\n",
        "# Get file sizes\n",
        "import os\n",
        "pkg_size = os.path.getsize('models/cnn_model_package.pkl') / (1024 * 1024)\n",
        "model_size = os.path.getsize('models/cnn_model.keras') / (1024 * 1024)\n",
        "\n",
        "print(f\"\\nFile Sizes:\")\n",
        "print(f\"  Package: {pkg_size:.2f} MB\")\n",
        "print(f\"  Model: {model_size:.2f} MB\")"
      ],
      "metadata": {
        "id": "q7eDTvUnunZU",
        "outputId": "9cea84e3-17a0-4c13-8a11-9cf4f8d48611",
        "colab": {
          "base_uri": "https://localhost:8080/"
        }
      },
      "execution_count": 56,
      "outputs": [
        {
          "metadata": {
            "tags": null
          },
          "name": "stdout",
          "output_type": "stream",
          "text": [
            "======================================================================\n",
            "SAVING CNN MODEL PACKAGE\n",
            "======================================================================\n",
            "✓ Model package saved: models/cnn_model_package.pkl\n",
            "✓ Model saved: models/cnn_model.keras\n",
            "✓ Tokenizer saved: models/tokenizer.pkl\n",
            "\n",
            "File Sizes:\n",
            "  Package: 31.14 MB\n",
            "  Model: 24.27 MB\n"
          ]
        }
      ]
    }
  ],
  "metadata": {
    "kernelspec": {
      "display_name": "Python 3",
      "language": "python",
      "name": "python3"
    },
    "language_info": {
      "codemirror_mode": {
        "name": "ipython",
        "version": 3
      },
      "file_extension": ".py",
      "mimetype": "text/x-python",
      "name": "python",
      "nbconvert_exporter": "python",
      "pygments_lexer": "ipython3",
      "version": "3.8.0"
    },
    "accelerator": "GPU",
    "colab": {
      "provenance": []
    }
  },
  "nbformat": 4,
  "nbformat_minor": 0
}